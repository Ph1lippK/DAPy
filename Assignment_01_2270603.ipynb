{
 "cells": [
  {
   "cell_type": "code",
   "execution_count": 50,
   "id": "ab4d97f7",
   "metadata": {},
   "outputs": [],
   "source": [
    "## Import stuff\n",
    "import numpy as np\n",
    "import pandas as pd"
   ]
  },
  {
   "cell_type": "markdown",
   "id": "0d9021d8",
   "metadata": {},
   "source": [
    " # This is ass. 1\n",
    " ## focus is on intro to python and data analytics\n",
    " ### There are 5 tasks:\n",
    " 1. Python Variables\n",
    " 1. Python Strings\n",
    " 1. Python Lists, Sets, Tuples, Dictionaries\n",
    " 1. Python NumPy\n",
    " 1. Python Pandas\n",
    " \n",
    " Im Jupiter-Notebook sollen die einzelnen Analyseschritte detailliert beschrieben werden.\n",
    "\t- Gehen Sie insbesondere auf auch die Art und Weise ein, wie\n",
    "\t\t- die Daten aufbereiten wurden,\n",
    "\t\t- welche Methoden verwendet wurden und\n",
    "\t\t- wie die einzelnen Erkenntnisse bzw. Ergebnisse zustande kommen. \n",
    "- Für die Bewertung der Aufgaben ist nicht nur das Ergebnis relevant, sondern auch die Beschreibung des von Ihnen verwendeten Wegs, sowie Präsentation der Ergebnisse (Lesbarkeit, Angabe der Aufgabenummer). "
   ]
  },
  {
   "cell_type": "markdown",
   "id": "c793e2bb",
   "metadata": {},
   "source": [
    "## 1. Python Variables\n",
    "1.1 Assign the values “silver” and “Audi” to variables “color” and “brand” respectively. Use both variables to print the following sentence: \"This silver audi is my car\".\n",
    "\n",
    "1.2 Display the result of the following expression using variables for each number: (15+6)*7."
   ]
  },
  {
   "cell_type": "code",
   "execution_count": 2,
   "id": "efa0acb5",
   "metadata": {},
   "outputs": [
    {
     "name": "stdout",
     "output_type": "stream",
     "text": [
      "This silver audi is my car\n"
     ]
    }
   ],
   "source": [
    "### 1.1 Assign the values “silver” and “Audi” to variables “color” and “brand” respectively. Use both variables to print the following sentence: \"This silver audi is my car\".\n",
    "#### assigned the color and brand\n",
    "color = \"Silver\"\n",
    "brand = \"Audi\"\n",
    "## printed the sentence, to lower the cases I use the lower method \n",
    "\n",
    "print(\"This\", color.lower(),brand.lower(),\"is my car\")"
   ]
  },
  {
   "cell_type": "code",
   "execution_count": 3,
   "id": "04e80f0d",
   "metadata": {},
   "outputs": [
    {
     "name": "stdout",
     "output_type": "stream",
     "text": [
      "147\n"
     ]
    }
   ],
   "source": [
    "### 1.2 Display the result of the following expression using variables for each number: (15+6)*7.\n",
    "#### (15+6)*7 equals 147, thus I use variabels for the first, second and third number. \n",
    "####To get rid of the spaces I use the sep parameter\n",
    "\n",
    "first_nr = 1\n",
    "second_nr = 4\n",
    "third_nr = 7\n",
    "print(first_nr,second_nr,third_nr,sep=\"\")"
   ]
  },
  {
   "cell_type": "code",
   "execution_count": 4,
   "id": "601bec1a",
   "metadata": {},
   "outputs": [
    {
     "data": {
      "text/plain": [
       "147"
      ]
     },
     "execution_count": 4,
     "metadata": {},
     "output_type": "execute_result"
    }
   ],
   "source": [
    "(15+6)*7"
   ]
  },
  {
   "cell_type": "markdown",
   "id": "b039d543",
   "metadata": {},
   "source": [
    "<hr>"
   ]
  },
  {
   "cell_type": "markdown",
   "id": "6a941f1d",
   "metadata": {},
   "source": [
    "## 2. Python Strings\n",
    "\n",
    "### 2.1 \n",
    "Given the following string: text=\"The most popular programming languages are: Python,Java,JavaScript and C#\"\n",
    "a) Add a space after each comma and assign it to the variable text\n",
    "b) Add the following string to the variable text and print it out: \", according to TIOBE Index and PYPL\"\n",
    "### 2.2\n",
    "With the following string given:mystring = \"THIS IS A STRING IN LOWER CASE. and this is a string in upper case\"\n",
    "Convert the string to the correct form: first sentence should be in lower case and the second sentence in upper case.\n",
    "Display correct string"
   ]
  },
  {
   "cell_type": "code",
   "execution_count": 7,
   "id": "ff09be8e",
   "metadata": {},
   "outputs": [
    {
     "name": "stdout",
     "output_type": "stream",
     "text": [
      "The most popular programming languages are: Python, Java, JavaScript and C#\n"
     ]
    }
   ],
   "source": [
    "## 2.1a)\n",
    "### \"\".1 Given the following string: \n",
    "text=\"The most popular programming languages are: Python,Java,JavaScript and C#\" \n",
    "## a) Add a space after each comma and assign it to the variable text \n",
    "##The replace() method replaces a string with another string\n",
    "print(text.replace(\",\",\", \"))"
   ]
  },
  {
   "cell_type": "code",
   "execution_count": 8,
   "id": "cf1f5056",
   "metadata": {},
   "outputs": [
    {
     "name": "stdout",
     "output_type": "stream",
     "text": [
      "The most popular programming languages are: Python, Java, JavaScript and C#, according to TIOBE Index and PYPL\n"
     ]
    }
   ],
   "source": [
    "## 2.1b) Add the following string to the variable text and print it out: \", according to TIOBE Index and PYPL\"\n",
    "text2 = \", according to TIOBE Index and PYPL\"\n",
    "print(text.replace(\",\",\", \") + text2)"
   ]
  },
  {
   "cell_type": "code",
   "execution_count": 11,
   "id": "0dc2cbd3",
   "metadata": {},
   "outputs": [
    {
     "name": "stdout",
     "output_type": "stream",
     "text": [
      "this is a string in lower case. AND THIS IS A STRING IN UPPER CASE\n"
     ]
    }
   ],
   "source": [
    "## 2.2 With the following string given:\n",
    "mystring = \"THIS IS A STRING IN LOWER CASE. and this is a string in upper case\"\n",
    "## Convert the string to the correct form: first sentence should be in lower case and the second sentence in upper case.\n",
    "## Display correct string\n",
    "## just using swapcase()\tSwaps cases, lower case becomes upper case and vice versa\n",
    "print(mystring.swapcase())"
   ]
  },
  {
   "cell_type": "markdown",
   "id": "ee9affad",
   "metadata": {},
   "source": [
    "<hr>"
   ]
  },
  {
   "cell_type": "markdown",
   "id": "0fa4cd34",
   "metadata": {},
   "source": [
    "3. Python Lists, Sets, Tuples, Dictionaries\n",
    "3.1 - 3.4"
   ]
  },
  {
   "cell_type": "code",
   "execution_count": 16,
   "id": "f1758eb7",
   "metadata": {},
   "outputs": [
    {
     "name": "stdout",
     "output_type": "stream",
     "text": [
      "['homework', 'cooking', 'meeting', 'chores']\n"
     ]
    }
   ],
   "source": [
    "## 3.1 With a list given:\n",
    "ToDoList = [\"homework\", \"shopping\", \"meeting\"]\n",
    "##a) Change “shopping” to “cooking”\n",
    "index = ToDoList.index(\"shopping\") # Find the index of 'shopping'\n",
    "ToDoList[index] = \"cooking\" # Replace 'shopping' with 'cooking'\n",
    "## b) Use the append() method to add “chores” to the list\n",
    "ToDoList.append(\"chores\")\n",
    "print(ToDoList)"
   ]
  },
  {
   "cell_type": "code",
   "execution_count": 20,
   "id": "e264b7ea",
   "metadata": {},
   "outputs": [
    {
     "name": "stdout",
     "output_type": "stream",
     "text": [
      "{'curling', 'luge', 'skating', 'hockey', 'skiing', 'short-track'}\n"
     ]
    }
   ],
   "source": [
    "##3.2 Return a new set with all items from both sets.:\n",
    "Sports1 = {\"curling\", \"skating\", \"skiing\"}\n",
    "Sports2 = {\"hockey\", \"luge\", \"short-track\"}\n",
    "Sports3 = Sports1.union(Sports2) ## using union operator\n",
    "print(Sports3)"
   ]
  },
  {
   "cell_type": "code",
   "execution_count": 41,
   "id": "f3b9d110",
   "metadata": {},
   "outputs": [
    {
     "name": "stdout",
     "output_type": "stream",
     "text": [
      "Japan\n",
      "('Germany',) ('Spain',) ('France',)\n",
      "Germany Spain France\n",
      "('Germany', 'Spain', 'France')\n"
     ]
    }
   ],
   "source": [
    "###3.3 Create a tuple containing following elements: Germany, Korea, Spain, Japan, France\n",
    "country_tuple = (\"Germany\", \"Korea\", \"Spain\", \"Japan\", \"France\")\n",
    "#print(country_tuple)\n",
    "## a) Use negative indexing to access fourth element of the tuple\n",
    "print(country_tuple[-2])\n",
    "## b) Use the range of indexes to print the first, third and fifth element of the tuple\n",
    "print(country_tuple[0:1], country_tuple[2:3], country_tuple[4:5])\n",
    "#or\n",
    "print(country_tuple[0], country_tuple[2], country_tuple[4])\n",
    "#or\n",
    "print(country_tuple[0::2])"
   ]
  },
  {
   "cell_type": "code",
   "execution_count": 45,
   "id": "4dde6059",
   "metadata": {},
   "outputs": [
    {
     "name": "stdout",
     "output_type": "stream",
     "text": [
      "The dictionary is not empty.\n",
      "Name: Computer Science (MA)\n",
      "Type: Master\n",
      "Study Programm: Fulltime\n",
      "ECTS: 120\n",
      "Degree: Master of Science\n"
     ]
    }
   ],
   "source": [
    "## 3.4 The following dictionary is given:\n",
    "ComputerScienceMA = {\n",
    "\"Name\": \"Computer Science (MA)\",\n",
    "\"Type\": \"Master\",\n",
    "\"Study Programm\": \"Fulltime\",\n",
    "\"ECTS\": \"120\",\n",
    "\"Degree\": \"Master of Science\"\n",
    "}\n",
    "#a) Check that dictionary is NOT empty, using len() method\n",
    "##print(len(ComputerScienceMA))\n",
    "if len(ComputerScienceMA) > 0:\n",
    "    print(\"The dictionary is not empty.\")\n",
    "else:\n",
    "    print(\"The dictionary is empty.\")\n",
    "#b) Iterate through the key:value pairs of dictionary\n",
    "for key, value in ComputerScienceMA.items():\n",
    "    print(key + \": \" + value)\n"
   ]
  },
  {
   "cell_type": "markdown",
   "id": "ab401210",
   "metadata": {},
   "source": [
    "## 4. Python NumPy\n",
    "4.1 Create 3-D numpy array of lengths 4, 2, 3 along the three dimensions with random values.:\n",
    "4.2 Given is the following 1D-Array:\n",
    "arr = np.array([1, 2, 3, 4, 5, 6, 7, 8])\n",
    "Copy the contents of the array \"arr\" to \"arr2\" so that even if the original array will be modified it won't affect the сontents of the copy (dublicated array)."
   ]
  },
  {
   "cell_type": "code",
   "execution_count": 47,
   "id": "53227fc2",
   "metadata": {},
   "outputs": [
    {
     "name": "stdout",
     "output_type": "stream",
     "text": [
      "[[[0.25814616 0.79593867 0.69600311]\n",
      "  [0.67342726 0.4283402  0.21071887]]\n",
      "\n",
      " [[0.2393525  0.36387477 0.80280622]\n",
      "  [0.74837343 0.31908118 0.54067454]]\n",
      "\n",
      " [[0.35993157 0.85534146 0.30802158]\n",
      "  [0.64401443 0.40245366 0.61954425]]\n",
      "\n",
      " [[0.01013363 0.73083545 0.58146074]\n",
      "  [0.14341644 0.95958341 0.63342974]]]\n"
     ]
    }
   ],
   "source": [
    "##4.1 Create 3-D numpy array of lengths 4, 2, 3 along the three dimensions with random values:\n",
    "array_3d = np.random.rand(4, 2, 3)\n",
    "print(array_3d)"
   ]
  },
  {
   "cell_type": "code",
   "execution_count": 49,
   "id": "e757b261",
   "metadata": {},
   "outputs": [
    {
     "name": "stdout",
     "output_type": "stream",
     "text": [
      "Original array modified: [10  2  3  4  5  6  7  8]\n",
      "Copy array: [1 2 3 4 5 6 7 8]\n"
     ]
    }
   ],
   "source": [
    "## 4.2 Given is the following 1D-Array:\n",
    "arr = np.array([1, 2, 3, 4, 5, 6, 7, 8])\n",
    "\n",
    "## Copy the contents of the array \"arr\" to \"arr2\"\n",
    "##so that even if the original array will be modified it won't affect the сontents of the copy (dublicated array).\n",
    "# Create a copy of the array\n",
    "arr2 = arr.copy()\n",
    "## testing a modification of the initial array and the behaviour of arr2\n",
    "# Modify the original array\n",
    "arr[0] = 10\n",
    "# Print the original array and the copy\n",
    "print(\"Original array modified:\", arr)\n",
    "print(\"Copy array:\", arr2)"
   ]
  },
  {
   "cell_type": "markdown",
   "id": "9d80b1d2",
   "metadata": {},
   "source": [
    "## 5. Python Pandas\n",
    "5.1 \n",
    "5.2\n"
   ]
  },
  {
   "cell_type": "code",
   "execution_count": 53,
   "id": "a2e6484f",
   "metadata": {},
   "outputs": [
    {
     "ename": "BadZipFile",
     "evalue": "File is not a zip file",
     "output_type": "error",
     "traceback": [
      "\u001b[1;31m---------------------------------------------------------------------------\u001b[0m",
      "\u001b[1;31mBadZipFile\u001b[0m                                Traceback (most recent call last)",
      "\u001b[1;32m~\\AppData\\Local\\Temp\\ipykernel_34428\\3494825874.py\u001b[0m in \u001b[0;36m<module>\u001b[1;34m\u001b[0m\n\u001b[0;32m      3\u001b[0m \u001b[1;33m\u001b[0m\u001b[0m\n\u001b[0;32m      4\u001b[0m \u001b[1;31m# Read the Excel file into a pandas DataFrame\u001b[0m\u001b[1;33m\u001b[0m\u001b[1;33m\u001b[0m\u001b[0m\n\u001b[1;32m----> 5\u001b[1;33m \u001b[0mdata_name\u001b[0m \u001b[1;33m=\u001b[0m \u001b[0mpd\u001b[0m\u001b[1;33m.\u001b[0m\u001b[0mread_excel\u001b[0m\u001b[1;33m(\u001b[0m\u001b[1;34m\"https://github.com/Ph1lippK/DAPy/blob/master/01%20Assignment%20Data-20230529/name.xlsx\"\u001b[0m\u001b[1;33m,\u001b[0m \u001b[0mengine\u001b[0m\u001b[1;33m=\u001b[0m\u001b[1;34m'openpyxl'\u001b[0m\u001b[1;33m)\u001b[0m\u001b[1;33m\u001b[0m\u001b[1;33m\u001b[0m\u001b[0m\n\u001b[0m\u001b[0;32m      6\u001b[0m \u001b[1;33m\u001b[0m\u001b[0m\n\u001b[0;32m      7\u001b[0m \u001b[1;33m\u001b[0m\u001b[0m\n",
      "\u001b[1;32m~\\Anaconda3\\lib\\site-packages\\pandas\\util\\_decorators.py\u001b[0m in \u001b[0;36mwrapper\u001b[1;34m(*args, **kwargs)\u001b[0m\n\u001b[0;32m    309\u001b[0m                     \u001b[0mstacklevel\u001b[0m\u001b[1;33m=\u001b[0m\u001b[0mstacklevel\u001b[0m\u001b[1;33m,\u001b[0m\u001b[1;33m\u001b[0m\u001b[1;33m\u001b[0m\u001b[0m\n\u001b[0;32m    310\u001b[0m                 )\n\u001b[1;32m--> 311\u001b[1;33m             \u001b[1;32mreturn\u001b[0m \u001b[0mfunc\u001b[0m\u001b[1;33m(\u001b[0m\u001b[1;33m*\u001b[0m\u001b[0margs\u001b[0m\u001b[1;33m,\u001b[0m \u001b[1;33m**\u001b[0m\u001b[0mkwargs\u001b[0m\u001b[1;33m)\u001b[0m\u001b[1;33m\u001b[0m\u001b[1;33m\u001b[0m\u001b[0m\n\u001b[0m\u001b[0;32m    312\u001b[0m \u001b[1;33m\u001b[0m\u001b[0m\n\u001b[0;32m    313\u001b[0m         \u001b[1;32mreturn\u001b[0m \u001b[0mwrapper\u001b[0m\u001b[1;33m\u001b[0m\u001b[1;33m\u001b[0m\u001b[0m\n",
      "\u001b[1;32m~\\Anaconda3\\lib\\site-packages\\pandas\\io\\excel\\_base.py\u001b[0m in \u001b[0;36mread_excel\u001b[1;34m(io, sheet_name, header, names, index_col, usecols, squeeze, dtype, engine, converters, true_values, false_values, skiprows, nrows, na_values, keep_default_na, na_filter, verbose, parse_dates, date_parser, thousands, decimal, comment, skipfooter, convert_float, mangle_dupe_cols, storage_options)\u001b[0m\n\u001b[0;32m    455\u001b[0m     \u001b[1;32mif\u001b[0m \u001b[1;32mnot\u001b[0m \u001b[0misinstance\u001b[0m\u001b[1;33m(\u001b[0m\u001b[0mio\u001b[0m\u001b[1;33m,\u001b[0m \u001b[0mExcelFile\u001b[0m\u001b[1;33m)\u001b[0m\u001b[1;33m:\u001b[0m\u001b[1;33m\u001b[0m\u001b[1;33m\u001b[0m\u001b[0m\n\u001b[0;32m    456\u001b[0m         \u001b[0mshould_close\u001b[0m \u001b[1;33m=\u001b[0m \u001b[1;32mTrue\u001b[0m\u001b[1;33m\u001b[0m\u001b[1;33m\u001b[0m\u001b[0m\n\u001b[1;32m--> 457\u001b[1;33m         \u001b[0mio\u001b[0m \u001b[1;33m=\u001b[0m \u001b[0mExcelFile\u001b[0m\u001b[1;33m(\u001b[0m\u001b[0mio\u001b[0m\u001b[1;33m,\u001b[0m \u001b[0mstorage_options\u001b[0m\u001b[1;33m=\u001b[0m\u001b[0mstorage_options\u001b[0m\u001b[1;33m,\u001b[0m \u001b[0mengine\u001b[0m\u001b[1;33m=\u001b[0m\u001b[0mengine\u001b[0m\u001b[1;33m)\u001b[0m\u001b[1;33m\u001b[0m\u001b[1;33m\u001b[0m\u001b[0m\n\u001b[0m\u001b[0;32m    458\u001b[0m     \u001b[1;32melif\u001b[0m \u001b[0mengine\u001b[0m \u001b[1;32mand\u001b[0m \u001b[0mengine\u001b[0m \u001b[1;33m!=\u001b[0m \u001b[0mio\u001b[0m\u001b[1;33m.\u001b[0m\u001b[0mengine\u001b[0m\u001b[1;33m:\u001b[0m\u001b[1;33m\u001b[0m\u001b[1;33m\u001b[0m\u001b[0m\n\u001b[0;32m    459\u001b[0m         raise ValueError(\n",
      "\u001b[1;32m~\\Anaconda3\\lib\\site-packages\\pandas\\io\\excel\\_base.py\u001b[0m in \u001b[0;36m__init__\u001b[1;34m(self, path_or_buffer, engine, storage_options)\u001b[0m\n\u001b[0;32m   1417\u001b[0m         \u001b[0mself\u001b[0m\u001b[1;33m.\u001b[0m\u001b[0mstorage_options\u001b[0m \u001b[1;33m=\u001b[0m \u001b[0mstorage_options\u001b[0m\u001b[1;33m\u001b[0m\u001b[1;33m\u001b[0m\u001b[0m\n\u001b[0;32m   1418\u001b[0m \u001b[1;33m\u001b[0m\u001b[0m\n\u001b[1;32m-> 1419\u001b[1;33m         \u001b[0mself\u001b[0m\u001b[1;33m.\u001b[0m\u001b[0m_reader\u001b[0m \u001b[1;33m=\u001b[0m \u001b[0mself\u001b[0m\u001b[1;33m.\u001b[0m\u001b[0m_engines\u001b[0m\u001b[1;33m[\u001b[0m\u001b[0mengine\u001b[0m\u001b[1;33m]\u001b[0m\u001b[1;33m(\u001b[0m\u001b[0mself\u001b[0m\u001b[1;33m.\u001b[0m\u001b[0m_io\u001b[0m\u001b[1;33m,\u001b[0m \u001b[0mstorage_options\u001b[0m\u001b[1;33m=\u001b[0m\u001b[0mstorage_options\u001b[0m\u001b[1;33m)\u001b[0m\u001b[1;33m\u001b[0m\u001b[1;33m\u001b[0m\u001b[0m\n\u001b[0m\u001b[0;32m   1420\u001b[0m \u001b[1;33m\u001b[0m\u001b[0m\n\u001b[0;32m   1421\u001b[0m     \u001b[1;32mdef\u001b[0m \u001b[0m__fspath__\u001b[0m\u001b[1;33m(\u001b[0m\u001b[0mself\u001b[0m\u001b[1;33m)\u001b[0m\u001b[1;33m:\u001b[0m\u001b[1;33m\u001b[0m\u001b[1;33m\u001b[0m\u001b[0m\n",
      "\u001b[1;32m~\\Anaconda3\\lib\\site-packages\\pandas\\io\\excel\\_openpyxl.py\u001b[0m in \u001b[0;36m__init__\u001b[1;34m(self, filepath_or_buffer, storage_options)\u001b[0m\n\u001b[0;32m    523\u001b[0m         \"\"\"\n\u001b[0;32m    524\u001b[0m         \u001b[0mimport_optional_dependency\u001b[0m\u001b[1;33m(\u001b[0m\u001b[1;34m\"openpyxl\"\u001b[0m\u001b[1;33m)\u001b[0m\u001b[1;33m\u001b[0m\u001b[1;33m\u001b[0m\u001b[0m\n\u001b[1;32m--> 525\u001b[1;33m         \u001b[0msuper\u001b[0m\u001b[1;33m(\u001b[0m\u001b[1;33m)\u001b[0m\u001b[1;33m.\u001b[0m\u001b[0m__init__\u001b[0m\u001b[1;33m(\u001b[0m\u001b[0mfilepath_or_buffer\u001b[0m\u001b[1;33m,\u001b[0m \u001b[0mstorage_options\u001b[0m\u001b[1;33m=\u001b[0m\u001b[0mstorage_options\u001b[0m\u001b[1;33m)\u001b[0m\u001b[1;33m\u001b[0m\u001b[1;33m\u001b[0m\u001b[0m\n\u001b[0m\u001b[0;32m    526\u001b[0m \u001b[1;33m\u001b[0m\u001b[0m\n\u001b[0;32m    527\u001b[0m     \u001b[1;33m@\u001b[0m\u001b[0mproperty\u001b[0m\u001b[1;33m\u001b[0m\u001b[1;33m\u001b[0m\u001b[0m\n",
      "\u001b[1;32m~\\Anaconda3\\lib\\site-packages\\pandas\\io\\excel\\_base.py\u001b[0m in \u001b[0;36m__init__\u001b[1;34m(self, filepath_or_buffer, storage_options)\u001b[0m\n\u001b[0;32m    516\u001b[0m             \u001b[0mself\u001b[0m\u001b[1;33m.\u001b[0m\u001b[0mhandles\u001b[0m\u001b[1;33m.\u001b[0m\u001b[0mhandle\u001b[0m\u001b[1;33m.\u001b[0m\u001b[0mseek\u001b[0m\u001b[1;33m(\u001b[0m\u001b[1;36m0\u001b[0m\u001b[1;33m)\u001b[0m\u001b[1;33m\u001b[0m\u001b[1;33m\u001b[0m\u001b[0m\n\u001b[0;32m    517\u001b[0m             \u001b[1;32mtry\u001b[0m\u001b[1;33m:\u001b[0m\u001b[1;33m\u001b[0m\u001b[1;33m\u001b[0m\u001b[0m\n\u001b[1;32m--> 518\u001b[1;33m                 \u001b[0mself\u001b[0m\u001b[1;33m.\u001b[0m\u001b[0mbook\u001b[0m \u001b[1;33m=\u001b[0m \u001b[0mself\u001b[0m\u001b[1;33m.\u001b[0m\u001b[0mload_workbook\u001b[0m\u001b[1;33m(\u001b[0m\u001b[0mself\u001b[0m\u001b[1;33m.\u001b[0m\u001b[0mhandles\u001b[0m\u001b[1;33m.\u001b[0m\u001b[0mhandle\u001b[0m\u001b[1;33m)\u001b[0m\u001b[1;33m\u001b[0m\u001b[1;33m\u001b[0m\u001b[0m\n\u001b[0m\u001b[0;32m    519\u001b[0m             \u001b[1;32mexcept\u001b[0m \u001b[0mException\u001b[0m\u001b[1;33m:\u001b[0m\u001b[1;33m\u001b[0m\u001b[1;33m\u001b[0m\u001b[0m\n\u001b[0;32m    520\u001b[0m                 \u001b[0mself\u001b[0m\u001b[1;33m.\u001b[0m\u001b[0mclose\u001b[0m\u001b[1;33m(\u001b[0m\u001b[1;33m)\u001b[0m\u001b[1;33m\u001b[0m\u001b[1;33m\u001b[0m\u001b[0m\n",
      "\u001b[1;32m~\\Anaconda3\\lib\\site-packages\\pandas\\io\\excel\\_openpyxl.py\u001b[0m in \u001b[0;36mload_workbook\u001b[1;34m(self, filepath_or_buffer)\u001b[0m\n\u001b[0;32m    534\u001b[0m         \u001b[1;32mfrom\u001b[0m \u001b[0mopenpyxl\u001b[0m \u001b[1;32mimport\u001b[0m \u001b[0mload_workbook\u001b[0m\u001b[1;33m\u001b[0m\u001b[1;33m\u001b[0m\u001b[0m\n\u001b[0;32m    535\u001b[0m \u001b[1;33m\u001b[0m\u001b[0m\n\u001b[1;32m--> 536\u001b[1;33m         return load_workbook(\n\u001b[0m\u001b[0;32m    537\u001b[0m             \u001b[0mfilepath_or_buffer\u001b[0m\u001b[1;33m,\u001b[0m \u001b[0mread_only\u001b[0m\u001b[1;33m=\u001b[0m\u001b[1;32mTrue\u001b[0m\u001b[1;33m,\u001b[0m \u001b[0mdata_only\u001b[0m\u001b[1;33m=\u001b[0m\u001b[1;32mTrue\u001b[0m\u001b[1;33m,\u001b[0m \u001b[0mkeep_links\u001b[0m\u001b[1;33m=\u001b[0m\u001b[1;32mFalse\u001b[0m\u001b[1;33m\u001b[0m\u001b[1;33m\u001b[0m\u001b[0m\n\u001b[0;32m    538\u001b[0m         )\n",
      "\u001b[1;32m~\\Anaconda3\\lib\\site-packages\\openpyxl\\reader\\excel.py\u001b[0m in \u001b[0;36mload_workbook\u001b[1;34m(filename, read_only, keep_vba, data_only, keep_links)\u001b[0m\n\u001b[0;32m    313\u001b[0m \u001b[1;33m\u001b[0m\u001b[0m\n\u001b[0;32m    314\u001b[0m     \"\"\"\n\u001b[1;32m--> 315\u001b[1;33m     reader = ExcelReader(filename, read_only, keep_vba,\n\u001b[0m\u001b[0;32m    316\u001b[0m                         data_only, keep_links)\n\u001b[0;32m    317\u001b[0m     \u001b[0mreader\u001b[0m\u001b[1;33m.\u001b[0m\u001b[0mread\u001b[0m\u001b[1;33m(\u001b[0m\u001b[1;33m)\u001b[0m\u001b[1;33m\u001b[0m\u001b[1;33m\u001b[0m\u001b[0m\n",
      "\u001b[1;32m~\\Anaconda3\\lib\\site-packages\\openpyxl\\reader\\excel.py\u001b[0m in \u001b[0;36m__init__\u001b[1;34m(self, fn, read_only, keep_vba, data_only, keep_links)\u001b[0m\n\u001b[0;32m    122\u001b[0m     def __init__(self,  fn, read_only=False, keep_vba=KEEP_VBA,\n\u001b[0;32m    123\u001b[0m                   data_only=False, keep_links=True):\n\u001b[1;32m--> 124\u001b[1;33m         \u001b[0mself\u001b[0m\u001b[1;33m.\u001b[0m\u001b[0marchive\u001b[0m \u001b[1;33m=\u001b[0m \u001b[0m_validate_archive\u001b[0m\u001b[1;33m(\u001b[0m\u001b[0mfn\u001b[0m\u001b[1;33m)\u001b[0m\u001b[1;33m\u001b[0m\u001b[1;33m\u001b[0m\u001b[0m\n\u001b[0m\u001b[0;32m    125\u001b[0m         \u001b[0mself\u001b[0m\u001b[1;33m.\u001b[0m\u001b[0mvalid_files\u001b[0m \u001b[1;33m=\u001b[0m \u001b[0mself\u001b[0m\u001b[1;33m.\u001b[0m\u001b[0marchive\u001b[0m\u001b[1;33m.\u001b[0m\u001b[0mnamelist\u001b[0m\u001b[1;33m(\u001b[0m\u001b[1;33m)\u001b[0m\u001b[1;33m\u001b[0m\u001b[1;33m\u001b[0m\u001b[0m\n\u001b[0;32m    126\u001b[0m         \u001b[0mself\u001b[0m\u001b[1;33m.\u001b[0m\u001b[0mread_only\u001b[0m \u001b[1;33m=\u001b[0m \u001b[0mread_only\u001b[0m\u001b[1;33m\u001b[0m\u001b[1;33m\u001b[0m\u001b[0m\n",
      "\u001b[1;32m~\\Anaconda3\\lib\\site-packages\\openpyxl\\reader\\excel.py\u001b[0m in \u001b[0;36m_validate_archive\u001b[1;34m(filename)\u001b[0m\n\u001b[0;32m     94\u001b[0m             \u001b[1;32mraise\u001b[0m \u001b[0mInvalidFileException\u001b[0m\u001b[1;33m(\u001b[0m\u001b[0mmsg\u001b[0m\u001b[1;33m)\u001b[0m\u001b[1;33m\u001b[0m\u001b[1;33m\u001b[0m\u001b[0m\n\u001b[0;32m     95\u001b[0m \u001b[1;33m\u001b[0m\u001b[0m\n\u001b[1;32m---> 96\u001b[1;33m     \u001b[0marchive\u001b[0m \u001b[1;33m=\u001b[0m \u001b[0mZipFile\u001b[0m\u001b[1;33m(\u001b[0m\u001b[0mfilename\u001b[0m\u001b[1;33m,\u001b[0m \u001b[1;34m'r'\u001b[0m\u001b[1;33m)\u001b[0m\u001b[1;33m\u001b[0m\u001b[1;33m\u001b[0m\u001b[0m\n\u001b[0m\u001b[0;32m     97\u001b[0m     \u001b[1;32mreturn\u001b[0m \u001b[0marchive\u001b[0m\u001b[1;33m\u001b[0m\u001b[1;33m\u001b[0m\u001b[0m\n\u001b[0;32m     98\u001b[0m \u001b[1;33m\u001b[0m\u001b[0m\n",
      "\u001b[1;32m~\\Anaconda3\\lib\\zipfile.py\u001b[0m in \u001b[0;36m__init__\u001b[1;34m(self, file, mode, compression, allowZip64, compresslevel, strict_timestamps)\u001b[0m\n\u001b[0;32m   1264\u001b[0m         \u001b[1;32mtry\u001b[0m\u001b[1;33m:\u001b[0m\u001b[1;33m\u001b[0m\u001b[1;33m\u001b[0m\u001b[0m\n\u001b[0;32m   1265\u001b[0m             \u001b[1;32mif\u001b[0m \u001b[0mmode\u001b[0m \u001b[1;33m==\u001b[0m \u001b[1;34m'r'\u001b[0m\u001b[1;33m:\u001b[0m\u001b[1;33m\u001b[0m\u001b[1;33m\u001b[0m\u001b[0m\n\u001b[1;32m-> 1266\u001b[1;33m                 \u001b[0mself\u001b[0m\u001b[1;33m.\u001b[0m\u001b[0m_RealGetContents\u001b[0m\u001b[1;33m(\u001b[0m\u001b[1;33m)\u001b[0m\u001b[1;33m\u001b[0m\u001b[1;33m\u001b[0m\u001b[0m\n\u001b[0m\u001b[0;32m   1267\u001b[0m             \u001b[1;32melif\u001b[0m \u001b[0mmode\u001b[0m \u001b[1;32min\u001b[0m \u001b[1;33m(\u001b[0m\u001b[1;34m'w'\u001b[0m\u001b[1;33m,\u001b[0m \u001b[1;34m'x'\u001b[0m\u001b[1;33m)\u001b[0m\u001b[1;33m:\u001b[0m\u001b[1;33m\u001b[0m\u001b[1;33m\u001b[0m\u001b[0m\n\u001b[0;32m   1268\u001b[0m                 \u001b[1;31m# set the modified flag so central directory gets written\u001b[0m\u001b[1;33m\u001b[0m\u001b[1;33m\u001b[0m\u001b[0m\n",
      "\u001b[1;32m~\\Anaconda3\\lib\\zipfile.py\u001b[0m in \u001b[0;36m_RealGetContents\u001b[1;34m(self)\u001b[0m\n\u001b[0;32m   1331\u001b[0m             \u001b[1;32mraise\u001b[0m \u001b[0mBadZipFile\u001b[0m\u001b[1;33m(\u001b[0m\u001b[1;34m\"File is not a zip file\"\u001b[0m\u001b[1;33m)\u001b[0m\u001b[1;33m\u001b[0m\u001b[1;33m\u001b[0m\u001b[0m\n\u001b[0;32m   1332\u001b[0m         \u001b[1;32mif\u001b[0m \u001b[1;32mnot\u001b[0m \u001b[0mendrec\u001b[0m\u001b[1;33m:\u001b[0m\u001b[1;33m\u001b[0m\u001b[1;33m\u001b[0m\u001b[0m\n\u001b[1;32m-> 1333\u001b[1;33m             \u001b[1;32mraise\u001b[0m \u001b[0mBadZipFile\u001b[0m\u001b[1;33m(\u001b[0m\u001b[1;34m\"File is not a zip file\"\u001b[0m\u001b[1;33m)\u001b[0m\u001b[1;33m\u001b[0m\u001b[1;33m\u001b[0m\u001b[0m\n\u001b[0m\u001b[0;32m   1334\u001b[0m         \u001b[1;32mif\u001b[0m \u001b[0mself\u001b[0m\u001b[1;33m.\u001b[0m\u001b[0mdebug\u001b[0m \u001b[1;33m>\u001b[0m \u001b[1;36m1\u001b[0m\u001b[1;33m:\u001b[0m\u001b[1;33m\u001b[0m\u001b[1;33m\u001b[0m\u001b[0m\n\u001b[0;32m   1335\u001b[0m             \u001b[0mprint\u001b[0m\u001b[1;33m(\u001b[0m\u001b[0mendrec\u001b[0m\u001b[1;33m)\u001b[0m\u001b[1;33m\u001b[0m\u001b[1;33m\u001b[0m\u001b[0m\n",
      "\u001b[1;31mBadZipFile\u001b[0m: File is not a zip file"
     ]
    }
   ],
   "source": [
    "## 5.1 Import all 3 provided Excel files (name.xlsx, land.xlsx and year.xlsx) using Pandas and combine them in one Dataframe.\n",
    "\n",
    "\n",
    "# Read the Excel file into a pandas DataFrame\n",
    "data_name = pd.read_excel(\"https://github.com/Ph1lippK/DAPy/blob/master/01%20Assignment%20Data-20230529/name.xlsx\", engine='openpyxl')\n",
    "\n",
    "\n",
    "\n",
    "# Print the DataFrame\n",
    "print(data_name)\n",
    "\n"
   ]
  },
  {
   "cell_type": "code",
   "execution_count": null,
   "id": "8714fa87",
   "metadata": {},
   "outputs": [],
   "source": [
    "5.2 The following list of dictionaries given:\n",
    "list_of_colleagues = [\n",
    "{'Name': 'Mike' , 'Age': 42, 'role': \"Support Technician\"},\n",
    "{'Name': 'James', 'Age': 32, 'role': \"Project Manager\"},\n",
    "{'Name': 'Tamara', 'Age': 26, 'role': \"Marketing specialist\"},\n",
    "{'Name': 'Samantha' , 'Age': 29, 'role': \"Software Developer\"},\n",
    "{'Name': 'Alex' , 'Age': 31, 'role': \"UX/UI Designer\"},\n",
    "]\n",
    "Create a DataFrame from this list."
   ]
  },
  {
   "cell_type": "code",
   "execution_count": null,
   "id": "2395e51e",
   "metadata": {},
   "outputs": [],
   "source": []
  },
  {
   "cell_type": "code",
   "execution_count": null,
   "id": "305b00fd",
   "metadata": {},
   "outputs": [],
   "source": []
  },
  {
   "cell_type": "code",
   "execution_count": null,
   "id": "0ad5bfc1",
   "metadata": {},
   "outputs": [],
   "source": []
  }
 ],
 "metadata": {
  "kernelspec": {
   "display_name": "Python 3 (ipykernel)",
   "language": "python",
   "name": "python3"
  },
  "language_info": {
   "codemirror_mode": {
    "name": "ipython",
    "version": 3
   },
   "file_extension": ".py",
   "mimetype": "text/x-python",
   "name": "python",
   "nbconvert_exporter": "python",
   "pygments_lexer": "ipython3",
   "version": "3.9.13"
  }
 },
 "nbformat": 4,
 "nbformat_minor": 5
}
