{
 "cells": [
  {
   "cell_type": "code",
   "execution_count": 50,
   "id": "f5fdfe7b",
   "metadata": {},
   "outputs": [],
   "source": [
    "## Import stuff\n",
    "import numpy as np\n",
    "import pandas as pd"
   ]
  },
  {
   "cell_type": "markdown",
   "id": "dca5c7a1",
   "metadata": {},
   "source": [
    " # This is ass. 1\n",
    " ## focus is on intro to python and data analytics\n",
    " ### There are 5 tasks:\n",
    " 1. Python Variables\n",
    " 1. Python Strings\n",
    " 1. Python Lists, Sets, Tuples, Dictionaries\n",
    " 1. Python NumPy\n",
    " 1. Python Pandas\n",
    " \n",
    " Im Jupiter-Notebook sollen die einzelnen Analyseschritte detailliert beschrieben werden.\n",
    "\t- Gehen Sie insbesondere auf auch die Art und Weise ein, wie\n",
    "\t\t- die Daten aufbereiten wurden,\n",
    "\t\t- welche Methoden verwendet wurden und\n",
    "\t\t- wie die einzelnen Erkenntnisse bzw. Ergebnisse zustande kommen. \n",
    "- Für die Bewertung der Aufgaben ist nicht nur das Ergebnis relevant, sondern auch die Beschreibung des von Ihnen verwendeten Wegs, sowie Präsentation der Ergebnisse (Lesbarkeit, Angabe der Aufgabenummer). "
   ]
  },
  {
   "cell_type": "markdown",
   "id": "b620d6be",
   "metadata": {},
   "source": [
    "## 1. Python Variables\n",
    "1.1 Assign the values “silver” and “Audi” to variables “color” and “brand” respectively. Use both variables to print the following sentence: \"This silver audi is my car\".\n",
    "\n",
    "1.2 Display the result of the following expression using variables for each number: (15+6)*7."
   ]
  },
  {
   "cell_type": "code",
   "execution_count": 2,
   "id": "92413be3",
   "metadata": {},
   "outputs": [
    {
     "name": "stdout",
     "output_type": "stream",
     "text": [
      "This silver audi is my car\n"
     ]
    }
   ],
   "source": [
    "### 1.1 Assign the values “silver” and “Audi” to variables “color” and “brand” respectively. Use both variables to print the following sentence: \"This silver audi is my car\".\n",
    "#### assigned the color and brand\n",
    "color = \"Silver\"\n",
    "brand = \"Audi\"\n",
    "## printed the sentence, to lower the cases I use the lower method \n",
    "\n",
    "print(\"This\", color.lower(),brand.lower(),\"is my car\")"
   ]
  },
  {
   "cell_type": "code",
   "execution_count": 3,
   "id": "95a9bfda",
   "metadata": {},
   "outputs": [
    {
     "name": "stdout",
     "output_type": "stream",
     "text": [
      "147\n"
     ]
    }
   ],
   "source": [
    "### 1.2 Display the result of the following expression using variables for each number: (15+6)*7.\n",
    "#### (15+6)*7 equals 147, thus I use variabels for the first, second and third number. \n",
    "####To get rid of the spaces I use the sep parameter\n",
    "\n",
    "first_nr = 1\n",
    "second_nr = 4\n",
    "third_nr = 7\n",
    "print(first_nr,second_nr,third_nr,sep=\"\")"
   ]
  },
  {
   "cell_type": "code",
   "execution_count": 4,
   "id": "b2395e51",
   "metadata": {},
   "outputs": [
    {
     "data": {
      "text/plain": [
       "147"
      ]
     },
     "execution_count": 4,
     "metadata": {},
     "output_type": "execute_result"
    }
   ],
   "source": [
    "(15+6)*7"
   ]
  },
  {
   "cell_type": "markdown",
   "id": "0f7ac544",
   "metadata": {},
   "source": [
    "<hr>"
   ]
  },
  {
   "cell_type": "markdown",
   "id": "bca8f964",
   "metadata": {},
   "source": [
    "## 2. Python Strings\n",
    "\n",
    "### 2.1 \n",
    "Given the following string: text=\"The most popular programming languages are: Python,Java,JavaScript and C#\"\n",
    "a) Add a space after each comma and assign it to the variable text\n",
    "b) Add the following string to the variable text and print it out: \", according to TIOBE Index and PYPL\"\n",
    "### 2.2\n",
    "With the following string given:mystring = \"THIS IS A STRING IN LOWER CASE. and this is a string in upper case\"\n",
    "Convert the string to the correct form: first sentence should be in lower case and the second sentence in upper case.\n",
    "Display correct string"
   ]
  },
  {
   "cell_type": "code",
   "execution_count": 7,
   "id": "a418b3f9",
   "metadata": {},
   "outputs": [
    {
     "name": "stdout",
     "output_type": "stream",
     "text": [
      "The most popular programming languages are: Python, Java, JavaScript and C#\n"
     ]
    }
   ],
   "source": [
    "## 2.1a)\n",
    "### \"\".1 Given the following string: \n",
    "text=\"The most popular programming languages are: Python,Java,JavaScript and C#\" \n",
    "## a) Add a space after each comma and assign it to the variable text \n",
    "##The replace() method replaces a string with another string\n",
    "print(text.replace(\",\",\", \"))"
   ]
  },
  {
   "cell_type": "code",
   "execution_count": 8,
   "id": "d74cdb7c",
   "metadata": {},
   "outputs": [
    {
     "name": "stdout",
     "output_type": "stream",
     "text": [
      "The most popular programming languages are: Python, Java, JavaScript and C#, according to TIOBE Index and PYPL\n"
     ]
    }
   ],
   "source": [
    "## 2.1b) Add the following string to the variable text and print it out: \", according to TIOBE Index and PYPL\"\n",
    "text2 = \", according to TIOBE Index and PYPL\"\n",
    "print(text.replace(\",\",\", \") + text2)"
   ]
  },
  {
   "cell_type": "code",
   "execution_count": 11,
   "id": "6c826916",
   "metadata": {},
   "outputs": [
    {
     "name": "stdout",
     "output_type": "stream",
     "text": [
      "this is a string in lower case. AND THIS IS A STRING IN UPPER CASE\n"
     ]
    }
   ],
   "source": [
    "## 2.2 With the following string given:\n",
    "mystring = \"THIS IS A STRING IN LOWER CASE. and this is a string in upper case\"\n",
    "## Convert the string to the correct form: first sentence should be in lower case and the second sentence in upper case.\n",
    "## Display correct string\n",
    "## just using swapcase()\tSwaps cases, lower case becomes upper case and vice versa\n",
    "print(mystring.swapcase())"
   ]
  },
  {
   "cell_type": "markdown",
   "id": "d75ccc1e",
   "metadata": {},
   "source": [
    "<hr>"
   ]
  },
  {
   "cell_type": "markdown",
   "id": "ee5b8ff5",
   "metadata": {},
   "source": [
    "3. Python Lists, Sets, Tuples, Dictionaries\n",
    "3.1 - 3.4"
   ]
  },
  {
   "cell_type": "code",
   "execution_count": 16,
   "id": "e77f760b",
   "metadata": {},
   "outputs": [
    {
     "name": "stdout",
     "output_type": "stream",
     "text": [
      "['homework', 'cooking', 'meeting', 'chores']\n"
     ]
    }
   ],
   "source": [
    "## 3.1 With a list given:\n",
    "ToDoList = [\"homework\", \"shopping\", \"meeting\"]\n",
    "##a) Change “shopping” to “cooking”\n",
    "index = ToDoList.index(\"shopping\") # Find the index of 'shopping'\n",
    "ToDoList[index] = \"cooking\" # Replace 'shopping' with 'cooking'\n",
    "## b) Use the append() method to add “chores” to the list\n",
    "ToDoList.append(\"chores\")\n",
    "print(ToDoList)"
   ]
  },
  {
   "cell_type": "code",
   "execution_count": 20,
   "id": "03cd9318",
   "metadata": {},
   "outputs": [
    {
     "name": "stdout",
     "output_type": "stream",
     "text": [
      "{'curling', 'luge', 'skating', 'hockey', 'skiing', 'short-track'}\n"
     ]
    }
   ],
   "source": [
    "##3.2 Return a new set with all items from both sets.:\n",
    "Sports1 = {\"curling\", \"skating\", \"skiing\"}\n",
    "Sports2 = {\"hockey\", \"luge\", \"short-track\"}\n",
    "Sports3 = Sports1.union(Sports2) ## using union operator\n",
    "print(Sports3)"
   ]
  },
  {
   "cell_type": "code",
   "execution_count": 41,
   "id": "2df49d16",
   "metadata": {},
   "outputs": [
    {
     "name": "stdout",
     "output_type": "stream",
     "text": [
      "Japan\n",
      "('Germany',) ('Spain',) ('France',)\n",
      "Germany Spain France\n",
      "('Germany', 'Spain', 'France')\n"
     ]
    }
   ],
   "source": [
    "###3.3 Create a tuple containing following elements: Germany, Korea, Spain, Japan, France\n",
    "country_tuple = (\"Germany\", \"Korea\", \"Spain\", \"Japan\", \"France\")\n",
    "#print(country_tuple)\n",
    "## a) Use negative indexing to access fourth element of the tuple\n",
    "print(country_tuple[-2])\n",
    "## b) Use the range of indexes to print the first, third and fifth element of the tuple\n",
    "print(country_tuple[0:1], country_tuple[2:3], country_tuple[4:5])\n",
    "#or\n",
    "print(country_tuple[0], country_tuple[2], country_tuple[4])\n",
    "#or\n",
    "print(country_tuple[0::2])"
   ]
  },
  {
   "cell_type": "code",
   "execution_count": 45,
   "id": "d1230339",
   "metadata": {},
   "outputs": [
    {
     "name": "stdout",
     "output_type": "stream",
     "text": [
      "The dictionary is not empty.\n",
      "Name: Computer Science (MA)\n",
      "Type: Master\n",
      "Study Programm: Fulltime\n",
      "ECTS: 120\n",
      "Degree: Master of Science\n"
     ]
    }
   ],
   "source": [
    "## 3.4 The following dictionary is given:\n",
    "ComputerScienceMA = {\n",
    "\"Name\": \"Computer Science (MA)\",\n",
    "\"Type\": \"Master\",\n",
    "\"Study Programm\": \"Fulltime\",\n",
    "\"ECTS\": \"120\",\n",
    "\"Degree\": \"Master of Science\"\n",
    "}\n",
    "#a) Check that dictionary is NOT empty, using len() method\n",
    "##print(len(ComputerScienceMA))\n",
    "if len(ComputerScienceMA) > 0:\n",
    "    print(\"The dictionary is not empty.\")\n",
    "else:\n",
    "    print(\"The dictionary is empty.\")\n",
    "#b) Iterate through the key:value pairs of dictionary\n",
    "for key, value in ComputerScienceMA.items():\n",
    "    print(key + \": \" + value)\n"
   ]
  },
  {
   "cell_type": "markdown",
   "id": "1cf6efa6",
   "metadata": {},
   "source": [
    "## 4. Python NumPy\n",
    "4.1 Create 3-D numpy array of lengths 4, 2, 3 along the three dimensions with random values.:\n",
    "4.2 Given is the following 1D-Array:\n",
    "arr = np.array([1, 2, 3, 4, 5, 6, 7, 8])\n",
    "Copy the contents of the array \"arr\" to \"arr2\" so that even if the original array will be modified it won't affect the сontents of the copy (dublicated array)."
   ]
  },
  {
   "cell_type": "code",
   "execution_count": 47,
   "id": "4829e790",
   "metadata": {},
   "outputs": [
    {
     "name": "stdout",
     "output_type": "stream",
     "text": [
      "[[[0.25814616 0.79593867 0.69600311]\n",
      "  [0.67342726 0.4283402  0.21071887]]\n",
      "\n",
      " [[0.2393525  0.36387477 0.80280622]\n",
      "  [0.74837343 0.31908118 0.54067454]]\n",
      "\n",
      " [[0.35993157 0.85534146 0.30802158]\n",
      "  [0.64401443 0.40245366 0.61954425]]\n",
      "\n",
      " [[0.01013363 0.73083545 0.58146074]\n",
      "  [0.14341644 0.95958341 0.63342974]]]\n"
     ]
    }
   ],
   "source": [
    "##4.1 Create 3-D numpy array of lengths 4, 2, 3 along the three dimensions with random values:\n",
    "array_3d = np.random.rand(4, 2, 3)\n",
    "print(array_3d)"
   ]
  },
  {
   "cell_type": "code",
   "execution_count": 49,
   "id": "69f5180a",
   "metadata": {},
   "outputs": [
    {
     "name": "stdout",
     "output_type": "stream",
     "text": [
      "Original array modified: [10  2  3  4  5  6  7  8]\n",
      "Copy array: [1 2 3 4 5 6 7 8]\n"
     ]
    }
   ],
   "source": [
    "## 4.2 Given is the following 1D-Array:\n",
    "arr = np.array([1, 2, 3, 4, 5, 6, 7, 8])\n",
    "\n",
    "## Copy the contents of the array \"arr\" to \"arr2\"\n",
    "##so that even if the original array will be modified it won't affect the сontents of the copy (dublicated array).\n",
    "# Create a copy of the array\n",
    "arr2 = arr.copy()\n",
    "## testing a modification of the initial array and the behaviour of arr2\n",
    "# Modify the original array\n",
    "arr[0] = 10\n",
    "# Print the original array and the copy\n",
    "print(\"Original array modified:\", arr)\n",
    "print(\"Copy array:\", arr2)"
   ]
  },
  {
   "cell_type": "markdown",
   "id": "f1907625",
   "metadata": {},
   "source": [
    "## 5. Python Pandas\n",
    "5.1 \n",
    "5.2\n"
   ]
  },
  {
   "cell_type": "code",
   "execution_count": 64,
   "id": "3fa7fe66",
   "metadata": {},
   "outputs": [],
   "source": [
    "## 5.1 Import all 3 provided Excel files (name.xlsx, land.xlsx and year.xlsx) using Pandas and combine them in one Dataframe.\n",
    "# Read the Excel file into a pandas DataFrame\n",
    "data_name = pd.read_excel(\"01 Assignment Data-20230529/name.xlsx\", engine='openpyxl')\n",
    "data_land = pd.read_excel(\"01 Assignment Data-20230529/land.xlsx\", engine='openpyxl')\n",
    "data_year = pd.read_excel(\"01 Assignment Data-20230529/year.xlsx\", engine='openpyxl')\n",
    "# Concatenate the DataFrames into one DataFrame\n",
    "combined_df = pd.concat([data_name,data_land,data_year], axis=1 )\n",
    "# Print the combined DataFrame\n",
    "#print(combined_df)"
   ]
  },
  {
   "cell_type": "code",
   "execution_count": 63,
   "id": "9f5b06ab",
   "metadata": {},
   "outputs": [
    {
     "name": "stdout",
     "output_type": "stream",
     "text": [
      "    id         name         land  year\n",
      "0    1   univesity1      Germany  1974\n",
      "1    2   univesity2        Italy  1980\n",
      "2    3   univesity3      Germany  1970\n",
      "3    4   univesity4       France  1971\n",
      "4    5   univesity5          USA  1861\n",
      "5    6   univesity6      Germany  1386\n",
      "6    7   univesity7      England  1209\n",
      "7    8   univesity8        Spain  1886\n",
      "8    9   univesity9       France  1530\n",
      "9   10  univesity10       Canada  1910\n",
      "10  11  univesity11    Australia  1902\n",
      "11  12  univesity12          USA  1890\n",
      "12  13  univesity13          USA  1885\n",
      "13  14  univesity14       Norway  1994\n",
      "14  15  univesity15       Sweden  1477\n",
      "15  16  univesity16      England  1977\n",
      "16  17  univesity17      Austria  1622\n",
      "17  18  univesity18      Germany  1966\n",
      "18  19  univesity19      Germany  1825\n",
      "19  20  univesity20        Spain  1608\n",
      "20  21  univesity21  Netherlands  1575\n",
      "21  22  univesity22      Austria  1669\n",
      "22  23  univesity23       Poland  1816\n",
      "23  24  univesity24      England  1832\n",
      "24  25  univesity25      Germany  1962\n"
     ]
    }
   ],
   "source": [
    "##now merging based on \"id\"\n",
    "# Merge the DataFrames based on their unique id columns\n",
    "merged_df = pd.merge(data_name, data_land, on='id')\n",
    "merged_df = pd.merge(merged_df, data_year, on='id')\n",
    "# Print the merged DataFrame\n",
    "print(merged_df)"
   ]
  },
  {
   "cell_type": "code",
   "execution_count": 65,
   "id": "50f4ba43",
   "metadata": {},
   "outputs": [
    {
     "name": "stdout",
     "output_type": "stream",
     "text": [
      "       Name  Age                  role\n",
      "0      Mike   42    Support Technician\n",
      "1     James   32       Project Manager\n",
      "2    Tamara   26  Marketing specialist\n",
      "3  Samantha   29    Software Developer\n",
      "4      Alex   31        UX/UI Designer\n"
     ]
    }
   ],
   "source": [
    "##5.2 The following list of dictionaries given:\n",
    "list_of_colleagues = [\n",
    "{'Name': 'Mike' , 'Age': 42, 'role': \"Support Technician\"},\n",
    "{'Name': 'James', 'Age': 32, 'role': \"Project Manager\"},\n",
    "{'Name': 'Tamara', 'Age': 26, 'role': \"Marketing specialist\"},\n",
    "{'Name': 'Samantha' , 'Age': 29, 'role': \"Software Developer\"},\n",
    "{'Name': 'Alex' , 'Age': 31, 'role': \"UX/UI Designer\"},\n",
    "]\n",
    "##Create a DataFrame from this list.\n",
    "# Create a DataFrame from the list of dictionaries\n",
    "df = pd.DataFrame(list_of_colleagues)\n",
    "# Print the DataFrame\n",
    "print(df)\n"
   ]
  }
 ],
 "metadata": {
  "kernelspec": {
   "display_name": "Python 3 (ipykernel)",
   "language": "python",
   "name": "python3"
  },
  "language_info": {
   "codemirror_mode": {
    "name": "ipython",
    "version": 3
   },
   "file_extension": ".py",
   "mimetype": "text/x-python",
   "name": "python",
   "nbconvert_exporter": "python",
   "pygments_lexer": "ipython3",
   "version": "3.9.13"
  }
 },
 "nbformat": 4,
 "nbformat_minor": 5
}
