{
 "cells": [
  {
   "cell_type": "code",
   "execution_count": 1,
   "id": "ced2df66",
   "metadata": {},
   "outputs": [],
   "source": [
    "## import stuff\n",
    "import pandas as pd\n",
    "import numpy as np\n",
    "import os\n",
    "import seaborn as sns\n",
    "import matplotlib.pyplot as plt\n",
    "from scipy import stats\n",
    "from scipy.stats import shapiro, levene"
   ]
  },
  {
   "cell_type": "markdown",
   "id": "23d408ca",
   "metadata": {},
   "source": [
    "# This is Ass. 4 - Correlation and regression\n",
    "\n",
    "focus is on statistics, correlation and regression \n",
    "There are 3 steps to do:\n",
    "1. Data Preperation\n",
    "2. Correlation\n",
    "3. Create multiple regression model for life expectancy\n",
    "4. Improve regression model and give recommendations to WHO\n",
    "\n",
    "General principle: \n",
    "\n",
    "Im Jupiter-Notebook sollen die einzelnen Analyseschritte detailliert beschrieben werden. - Gehen Sie insbesondere auf auch die Art und Weise ein, wie - die Daten aufbereiten wurden, - welche Methoden verwendet wurden und - wie die einzelnen Erkenntnisse bzw. Ergebnisse zustande kommen.\n",
    "\n",
    "Für die Bewertung der Aufgaben ist nicht nur das Ergebnis relevant, sondern auch die Beschreibung des von Ihnen verwendeten Wegs, sowie Präsentation der Ergebnisse (Lesbarkeit, Angabe der Aufgabenummer)."
   ]
  },
  {
   "cell_type": "markdown",
   "id": "d29dc086",
   "metadata": {},
   "source": [
    "# 1. Data Preparation\n",
    "Import and Clean"
   ]
  },
  {
   "cell_type": "code",
   "execution_count": 4,
   "id": "ff7e7b7e",
   "metadata": {},
   "outputs": [
    {
     "data": {
      "text/html": [
       "<div>\n",
       "<style scoped>\n",
       "    .dataframe tbody tr th:only-of-type {\n",
       "        vertical-align: middle;\n",
       "    }\n",
       "\n",
       "    .dataframe tbody tr th {\n",
       "        vertical-align: top;\n",
       "    }\n",
       "\n",
       "    .dataframe thead th {\n",
       "        text-align: right;\n",
       "    }\n",
       "</style>\n",
       "<table border=\"1\" class=\"dataframe\">\n",
       "  <thead>\n",
       "    <tr style=\"text-align: right;\">\n",
       "      <th></th>\n",
       "      <th>country</th>\n",
       "      <th>year</th>\n",
       "      <th>status</th>\n",
       "      <th>life_expectancy</th>\n",
       "      <th>adult_mortality</th>\n",
       "      <th>alcohol</th>\n",
       "      <th>percentage_expenditure</th>\n",
       "      <th>hepatitis_b</th>\n",
       "      <th>measles</th>\n",
       "      <th>polio</th>\n",
       "      <th>total_expenditure</th>\n",
       "      <th>diphtheria</th>\n",
       "      <th>hiv/aids</th>\n",
       "      <th>gdp</th>\n",
       "      <th>schooling</th>\n",
       "      <th>population</th>\n",
       "    </tr>\n",
       "  </thead>\n",
       "  <tbody>\n",
       "    <tr>\n",
       "      <th>0</th>\n",
       "      <td>Afghanistan</td>\n",
       "      <td>2015</td>\n",
       "      <td>Developing</td>\n",
       "      <td>65.0</td>\n",
       "      <td>263.0</td>\n",
       "      <td>0.010000</td>\n",
       "      <td>71.279624</td>\n",
       "      <td>65.0</td>\n",
       "      <td>831</td>\n",
       "      <td>52.0</td>\n",
       "      <td>8.16</td>\n",
       "      <td>65.0</td>\n",
       "      <td>0.1</td>\n",
       "      <td>584.259210</td>\n",
       "      <td>10.1</td>\n",
       "      <td>33736494.0</td>\n",
       "    </tr>\n",
       "    <tr>\n",
       "      <th>1</th>\n",
       "      <td>Albania</td>\n",
       "      <td>2015</td>\n",
       "      <td>Developing</td>\n",
       "      <td>77.8</td>\n",
       "      <td>74.0</td>\n",
       "      <td>4.600000</td>\n",
       "      <td>364.975229</td>\n",
       "      <td>99.0</td>\n",
       "      <td>0</td>\n",
       "      <td>99.0</td>\n",
       "      <td>6.00</td>\n",
       "      <td>99.0</td>\n",
       "      <td>0.1</td>\n",
       "      <td>3954.227830</td>\n",
       "      <td>14.2</td>\n",
       "      <td>28873.0</td>\n",
       "    </tr>\n",
       "    <tr>\n",
       "      <th>2</th>\n",
       "      <td>Algeria</td>\n",
       "      <td>2015</td>\n",
       "      <td>Developing</td>\n",
       "      <td>75.6</td>\n",
       "      <td>19.0</td>\n",
       "      <td>5.288333</td>\n",
       "      <td>0.000000</td>\n",
       "      <td>95.0</td>\n",
       "      <td>63</td>\n",
       "      <td>95.0</td>\n",
       "      <td>7.08</td>\n",
       "      <td>95.0</td>\n",
       "      <td>0.1</td>\n",
       "      <td>4132.762920</td>\n",
       "      <td>14.4</td>\n",
       "      <td>39871528.0</td>\n",
       "    </tr>\n",
       "    <tr>\n",
       "      <th>3</th>\n",
       "      <td>Angola</td>\n",
       "      <td>2015</td>\n",
       "      <td>Developing</td>\n",
       "      <td>52.4</td>\n",
       "      <td>335.0</td>\n",
       "      <td>5.288333</td>\n",
       "      <td>0.000000</td>\n",
       "      <td>64.0</td>\n",
       "      <td>118</td>\n",
       "      <td>52.0</td>\n",
       "      <td>7.08</td>\n",
       "      <td>64.0</td>\n",
       "      <td>1.8</td>\n",
       "      <td>3695.793748</td>\n",
       "      <td>11.4</td>\n",
       "      <td>2785935.0</td>\n",
       "    </tr>\n",
       "    <tr>\n",
       "      <th>4</th>\n",
       "      <td>Antigua and Barbuda</td>\n",
       "      <td>2015</td>\n",
       "      <td>Developing</td>\n",
       "      <td>76.4</td>\n",
       "      <td>13.0</td>\n",
       "      <td>5.288333</td>\n",
       "      <td>0.000000</td>\n",
       "      <td>99.0</td>\n",
       "      <td>0</td>\n",
       "      <td>86.0</td>\n",
       "      <td>7.08</td>\n",
       "      <td>99.0</td>\n",
       "      <td>0.2</td>\n",
       "      <td>13566.954100</td>\n",
       "      <td>13.9</td>\n",
       "      <td>NaN</td>\n",
       "    </tr>\n",
       "  </tbody>\n",
       "</table>\n",
       "</div>"
      ],
      "text/plain": [
       "               country  year      status  life_expectancy  adult_mortality  \\\n",
       "0          Afghanistan  2015  Developing             65.0            263.0   \n",
       "1              Albania  2015  Developing             77.8             74.0   \n",
       "2              Algeria  2015  Developing             75.6             19.0   \n",
       "3               Angola  2015  Developing             52.4            335.0   \n",
       "4  Antigua and Barbuda  2015  Developing             76.4             13.0   \n",
       "\n",
       "    alcohol  percentage_expenditure  hepatitis_b  measles  polio  \\\n",
       "0  0.010000               71.279624         65.0      831   52.0   \n",
       "1  4.600000              364.975229         99.0        0   99.0   \n",
       "2  5.288333                0.000000         95.0       63   95.0   \n",
       "3  5.288333                0.000000         64.0      118   52.0   \n",
       "4  5.288333                0.000000         99.0        0   86.0   \n",
       "\n",
       "   total_expenditure  diphtheria  hiv/aids           gdp  schooling  \\\n",
       "0               8.16        65.0       0.1    584.259210       10.1   \n",
       "1               6.00        99.0       0.1   3954.227830       14.2   \n",
       "2               7.08        95.0       0.1   4132.762920       14.4   \n",
       "3               7.08        64.0       1.8   3695.793748       11.4   \n",
       "4               7.08        99.0       0.2  13566.954100       13.9   \n",
       "\n",
       "   population  \n",
       "0  33736494.0  \n",
       "1     28873.0  \n",
       "2  39871528.0  \n",
       "3   2785935.0  \n",
       "4         NaN  "
      ]
     },
     "execution_count": 4,
     "metadata": {},
     "output_type": "execute_result"
    }
   ],
   "source": [
    "## get data\n",
    "data = pd.read_csv(\"04_Assignment_data.csv\")\n",
    "data.head()"
   ]
  },
  {
   "cell_type": "code",
   "execution_count": 24,
   "id": "245a2b03",
   "metadata": {},
   "outputs": [
    {
     "data": {
      "text/html": [
       "<div>\n",
       "<style scoped>\n",
       "    .dataframe tbody tr th:only-of-type {\n",
       "        vertical-align: middle;\n",
       "    }\n",
       "\n",
       "    .dataframe tbody tr th {\n",
       "        vertical-align: top;\n",
       "    }\n",
       "\n",
       "    .dataframe thead th {\n",
       "        text-align: right;\n",
       "    }\n",
       "</style>\n",
       "<table border=\"1\" class=\"dataframe\">\n",
       "  <thead>\n",
       "    <tr style=\"text-align: right;\">\n",
       "      <th></th>\n",
       "      <th>country</th>\n",
       "      <th>year</th>\n",
       "      <th>status</th>\n",
       "      <th>life_expectancy</th>\n",
       "      <th>adult_mortality</th>\n",
       "      <th>alcohol</th>\n",
       "      <th>percentage_expenditure</th>\n",
       "      <th>hepatitis_b</th>\n",
       "      <th>measles</th>\n",
       "      <th>polio</th>\n",
       "      <th>total_expenditure</th>\n",
       "      <th>diphtheria</th>\n",
       "      <th>hiv/aids</th>\n",
       "      <th>gdp</th>\n",
       "      <th>schooling</th>\n",
       "      <th>population</th>\n",
       "    </tr>\n",
       "  </thead>\n",
       "  <tbody>\n",
       "    <tr>\n",
       "      <th>0</th>\n",
       "      <td>Afghanistan</td>\n",
       "      <td>2015</td>\n",
       "      <td>Developing</td>\n",
       "      <td>65.0</td>\n",
       "      <td>263.0</td>\n",
       "      <td>0.01</td>\n",
       "      <td>71.279624</td>\n",
       "      <td>65.0</td>\n",
       "      <td>831</td>\n",
       "      <td>52.0</td>\n",
       "      <td>8.16</td>\n",
       "      <td>65.0</td>\n",
       "      <td>0.1</td>\n",
       "      <td>584.25921</td>\n",
       "      <td>10.1</td>\n",
       "      <td>33736494.0</td>\n",
       "    </tr>\n",
       "  </tbody>\n",
       "</table>\n",
       "</div>"
      ],
      "text/plain": [
       "       country  year      status  life_expectancy  adult_mortality  alcohol  \\\n",
       "0  Afghanistan  2015  Developing             65.0            263.0     0.01   \n",
       "\n",
       "   percentage_expenditure  hepatitis_b  measles  polio  total_expenditure  \\\n",
       "0               71.279624         65.0      831   52.0               8.16   \n",
       "\n",
       "   diphtheria  hiv/aids        gdp  schooling  population  \n",
       "0        65.0       0.1  584.25921       10.1  33736494.0  "
      ]
     },
     "execution_count": 24,
     "metadata": {},
     "output_type": "execute_result"
    }
   ],
   "source": [
    "data[(data['country'] == 'Afghanistan') & (data['year'] == 2015)]\n"
   ]
  },
  {
   "cell_type": "code",
   "execution_count": 5,
   "id": "9a669c03",
   "metadata": {},
   "outputs": [
    {
     "name": "stdout",
     "output_type": "stream",
     "text": [
      "<class 'pandas.core.frame.DataFrame'>\n",
      "RangeIndex: 2938 entries, 0 to 2937\n",
      "Data columns (total 16 columns):\n",
      " #   Column                  Non-Null Count  Dtype  \n",
      "---  ------                  --------------  -----  \n",
      " 0   country                 2938 non-null   object \n",
      " 1   year                    2938 non-null   int64  \n",
      " 2   status                  2938 non-null   object \n",
      " 3   life_expectancy         2938 non-null   float64\n",
      " 4   adult_mortality         2938 non-null   float64\n",
      " 5   alcohol                 2938 non-null   float64\n",
      " 6   percentage_expenditure  2938 non-null   float64\n",
      " 7   hepatitis_b             2938 non-null   float64\n",
      " 8   measles                 2938 non-null   int64  \n",
      " 9   polio                   2938 non-null   float64\n",
      " 10  total_expenditure       2938 non-null   float64\n",
      " 11  diphtheria              2938 non-null   float64\n",
      " 12  hiv/aids                2938 non-null   float64\n",
      " 13  gdp                     2938 non-null   float64\n",
      " 14  schooling               2775 non-null   float64\n",
      " 15  population              2286 non-null   float64\n",
      "dtypes: float64(12), int64(2), object(2)\n",
      "memory usage: 367.4+ KB\n"
     ]
    }
   ],
   "source": [
    "data.info()"
   ]
  },
  {
   "cell_type": "code",
   "execution_count": 6,
   "id": "9de7bebc",
   "metadata": {},
   "outputs": [
    {
     "name": "stdout",
     "output_type": "stream",
     "text": [
      "country                     0\n",
      "year                        0\n",
      "status                      0\n",
      "life_expectancy             0\n",
      "adult_mortality             0\n",
      "alcohol                     0\n",
      "percentage_expenditure      0\n",
      "hepatitis_b                 0\n",
      "measles                     0\n",
      "polio                       0\n",
      "total_expenditure           0\n",
      "diphtheria                  0\n",
      "hiv/aids                    0\n",
      "gdp                         0\n",
      "schooling                 163\n",
      "population                652\n",
      "dtype: int64\n"
     ]
    }
   ],
   "source": [
    "##Check for missing values\n",
    "print(data.isna().sum()) # Check the number of missing values in each column"
   ]
  },
  {
   "cell_type": "code",
   "execution_count": 14,
   "id": "e2778973",
   "metadata": {},
   "outputs": [
    {
     "data": {
      "text/plain": [
       "country\n",
       "Afghanistan             8.21250\n",
       "Albania                12.13750\n",
       "Algeria                12.71250\n",
       "Angola                  8.06250\n",
       "Antigua and Barbuda    10.68125\n",
       "Name: schooling, dtype: float64"
      ]
     },
     "execution_count": 14,
     "metadata": {},
     "output_type": "execute_result"
    }
   ],
   "source": [
    "mean_schooling_per_country = data.groupby('country')['schooling'].mean()\n",
    "mean_schooling_per_country.head()"
   ]
  },
  {
   "cell_type": "code",
   "execution_count": 15,
   "id": "e39cc576",
   "metadata": {},
   "outputs": [
    {
     "data": {
      "text/plain": [
       "country\n",
       "Afghanistan            9.972260e+06\n",
       "Albania                6.969116e+05\n",
       "Algeria                2.164983e+07\n",
       "Angola                 1.014710e+07\n",
       "Antigua and Barbuda             NaN\n",
       "Name: population, dtype: float64"
      ]
     },
     "execution_count": 15,
     "metadata": {},
     "output_type": "execute_result"
    }
   ],
   "source": [
    "mean_population_per_country = data.groupby('country')['population'].mean()\n",
    "mean_population_per_country.head()"
   ]
  },
  {
   "cell_type": "code",
   "execution_count": null,
   "id": "c0674935",
   "metadata": {},
   "outputs": [],
   "source": []
  },
  {
   "cell_type": "code",
   "execution_count": null,
   "id": "6205b3ee",
   "metadata": {},
   "outputs": [],
   "source": []
  }
 ],
 "metadata": {
  "kernelspec": {
   "display_name": "Python 3 (ipykernel)",
   "language": "python",
   "name": "python3"
  },
  "language_info": {
   "codemirror_mode": {
    "name": "ipython",
    "version": 3
   },
   "file_extension": ".py",
   "mimetype": "text/x-python",
   "name": "python",
   "nbconvert_exporter": "python",
   "pygments_lexer": "ipython3",
   "version": "3.9.13"
  }
 },
 "nbformat": 4,
 "nbformat_minor": 5
}
