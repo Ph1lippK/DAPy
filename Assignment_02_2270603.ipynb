{
 "cells": [
  {
   "cell_type": "code",
   "execution_count": 1,
   "id": "3934e5cb",
   "metadata": {},
   "outputs": [],
   "source": [
    "## import stuff\n",
    "import pandas as pd\n",
    "import numpy as np\n",
    "import os"
   ]
  },
  {
   "cell_type": "markdown",
   "id": "4a926b0f",
   "metadata": {},
   "source": [
    " # This is ass. 2\n",
    " ## focus is on data wrangling and manipulation\n",
    " ### There are 10 queries to write\n",
    " \n",
    " \n",
    " Im Jupiter-Notebook sollen die einzelnen Analyseschritte detailliert beschrieben werden.\n",
    "\t- Gehen Sie insbesondere auf auch die Art und Weise ein, wie\n",
    "\t\t- die Daten aufbereiten wurden,\n",
    "\t\t- welche Methoden verwendet wurden und\n",
    "\t\t- wie die einzelnen Erkenntnisse bzw. Ergebnisse zustande kommen. \n",
    "- Für die Bewertung der Aufgaben ist nicht nur das Ergebnis relevant, sondern auch die Beschreibung des von Ihnen verwendeten Wegs, sowie Präsentation der Ergebnisse (Lesbarkeit, Angabe der Aufgabenummer). "
   ]
  },
  {
   "cell_type": "code",
   "execution_count": 2,
   "id": "d98960de",
   "metadata": {},
   "outputs": [],
   "source": [
    "## get data\n",
    "##path = \"https://raw.githubusercontent.com/VAWi-DataScience/Data-Analytics-with-Python/main/Lecture/03_Data_Wrangling/data/\"\n",
    "path = \"https://raw.githubusercontent.com/Ph1lippK/DAPy/master/02_Assignment%20Data-20230529/\"\n",
    "\n",
    "##https://github.com/Ph1lippK/DAPy/tree/7804e0b4a8a4cb6df65774e5795007149effa935/02_Assignment%20Data-20230529\n",
    "\n",
    "#Reading the files (dataframe = pd.read_filetype(\"name\"))\n",
    "customers = pd.read_csv(path+\"//customers.csv\", names= ['customer_id','customer_name','gender','age','home_address','zip_code','city','state','country'])\n",
    "orders = pd.read_csv(path+\"//orders.csv\",names= ['order_id','customer_id','payment','order_date','delivery_date'])\n",
    "products = pd.read_csv(path+\"//products.csv\", names= ['product_id','product_type','product_name','size,colour','price','p_quantity','description'])\n",
    "sales = pd.read_csv(path+\"//sales.csv\", names= ['sales_id','order_id','product_id','price_per_unit','s_quantity','total_price'])"
   ]
  },
  {
   "cell_type": "markdown",
   "id": "de3fdc03",
   "metadata": {},
   "source": [
    "# Query 01\n",
    "1. Decrease the price of all trousers by 30 percent and \n",
    "1. increase the price of all shirts by 10 percent. \n",
    "1. Print out the first five shirts and the last five pairs of trousers."
   ]
  },
  {
   "cell_type": "code",
   "execution_count": 3,
   "id": "eec6742f",
   "metadata": {},
   "outputs": [
    {
     "data": {
      "text/html": [
       "<div>\n",
       "<style scoped>\n",
       "    .dataframe tbody tr th:only-of-type {\n",
       "        vertical-align: middle;\n",
       "    }\n",
       "\n",
       "    .dataframe tbody tr th {\n",
       "        vertical-align: top;\n",
       "    }\n",
       "\n",
       "    .dataframe thead th {\n",
       "        text-align: right;\n",
       "    }\n",
       "</style>\n",
       "<table border=\"1\" class=\"dataframe\">\n",
       "  <thead>\n",
       "    <tr style=\"text-align: right;\">\n",
       "      <th></th>\n",
       "      <th>product_id</th>\n",
       "      <th>product_type</th>\n",
       "      <th>product_name</th>\n",
       "      <th>size,colour</th>\n",
       "      <th>price</th>\n",
       "      <th>p_quantity</th>\n",
       "      <th>description</th>\n",
       "    </tr>\n",
       "  </thead>\n",
       "  <tbody>\n",
       "    <tr>\n",
       "      <th>product_id</th>\n",
       "      <td>product_type</td>\n",
       "      <td>product_name</td>\n",
       "      <td>size</td>\n",
       "      <td>colour</td>\n",
       "      <td>price</td>\n",
       "      <td>p_quantity</td>\n",
       "      <td>description</td>\n",
       "    </tr>\n",
       "    <tr>\n",
       "      <th>0</th>\n",
       "      <td>Shirt</td>\n",
       "      <td>Oxford Cloth</td>\n",
       "      <td>XS</td>\n",
       "      <td>red</td>\n",
       "      <td>114</td>\n",
       "      <td>66</td>\n",
       "      <td>A red coloured, XS sized, Oxford Cloth Shirt</td>\n",
       "    </tr>\n",
       "    <tr>\n",
       "      <th>1</th>\n",
       "      <td>Shirt</td>\n",
       "      <td>Oxford Cloth</td>\n",
       "      <td>S</td>\n",
       "      <td>red</td>\n",
       "      <td>114</td>\n",
       "      <td>53</td>\n",
       "      <td>A red coloured, S sized, Oxford Cloth Shirt</td>\n",
       "    </tr>\n",
       "    <tr>\n",
       "      <th>2</th>\n",
       "      <td>Shirt</td>\n",
       "      <td>Oxford Cloth</td>\n",
       "      <td>M</td>\n",
       "      <td>red</td>\n",
       "      <td>114</td>\n",
       "      <td>54</td>\n",
       "      <td>A red coloured, M sized, Oxford Cloth Shirt</td>\n",
       "    </tr>\n",
       "    <tr>\n",
       "      <th>3</th>\n",
       "      <td>Shirt</td>\n",
       "      <td>Oxford Cloth</td>\n",
       "      <td>L</td>\n",
       "      <td>red</td>\n",
       "      <td>114</td>\n",
       "      <td>69</td>\n",
       "      <td>A red coloured, L sized, Oxford Cloth Shirt</td>\n",
       "    </tr>\n",
       "  </tbody>\n",
       "</table>\n",
       "</div>"
      ],
      "text/plain": [
       "              product_id  product_type product_name size,colour  price  \\\n",
       "product_id  product_type  product_name         size      colour  price   \n",
       "0                  Shirt  Oxford Cloth           XS         red    114   \n",
       "1                  Shirt  Oxford Cloth            S         red    114   \n",
       "2                  Shirt  Oxford Cloth            M         red    114   \n",
       "3                  Shirt  Oxford Cloth            L         red    114   \n",
       "\n",
       "            p_quantity                                   description  \n",
       "product_id  p_quantity                                   description  \n",
       "0                   66  A red coloured, XS sized, Oxford Cloth Shirt  \n",
       "1                   53   A red coloured, S sized, Oxford Cloth Shirt  \n",
       "2                   54   A red coloured, M sized, Oxford Cloth Shirt  \n",
       "3                   69   A red coloured, L sized, Oxford Cloth Shirt  "
      ]
     },
     "execution_count": 3,
     "metadata": {},
     "output_type": "execute_result"
    }
   ],
   "source": [
    "products.head()"
   ]
  },
  {
   "cell_type": "code",
   "execution_count": 4,
   "id": "9b99c682",
   "metadata": {},
   "outputs": [
    {
     "name": "stdout",
     "output_type": "stream",
     "text": [
      "['product_type' 'Shirt' 'Jacket' 'Trousers']\n"
     ]
    }
   ],
   "source": [
    "## checking where I can find my trousers and shirts\n",
    "# Get the unique values of the \"product_id\" column\n",
    "unique_product_types = products[\"product_id\"].unique()\n",
    "# Print the unique product types\n",
    "print(unique_product_types)"
   ]
  },
  {
   "cell_type": "code",
   "execution_count": 6,
   "id": "eb844022",
   "metadata": {},
   "outputs": [
    {
     "data": {
      "text/plain": [
       "product_id      object\n",
       "product_type    object\n",
       "product_name    object\n",
       "size,colour     object\n",
       "price           object\n",
       "p_quantity      object\n",
       "description     object\n",
       "dtype: object"
      ]
     },
     "execution_count": 6,
     "metadata": {},
     "output_type": "execute_result"
    }
   ],
   "source": [
    "## check for datatypes, since I want to multiple prices later\n",
    "products.dtypes"
   ]
  },
  {
   "cell_type": "code",
   "execution_count": null,
   "id": "cf71ffe2",
   "metadata": {},
   "outputs": [],
   "source": []
  },
  {
   "cell_type": "code",
   "execution_count": null,
   "id": "1f47e986",
   "metadata": {},
   "outputs": [],
   "source": []
  },
  {
   "cell_type": "code",
   "execution_count": null,
   "id": "232a093b",
   "metadata": {},
   "outputs": [],
   "source": []
  },
  {
   "cell_type": "code",
   "execution_count": 5,
   "id": "ca2298f3",
   "metadata": {},
   "outputs": [],
   "source": [
    "## creating df for only trousers and shirts\n",
    "products_trousers = products[products[\"product_id\"] == \"Trousers\"]\n",
    "#products_trousers.head()\n",
    "products_shirts = products[products[\"product_id\"] == \"Shirt\"]\n",
    "#products_shirts.head()"
   ]
  },
  {
   "cell_type": "code",
   "execution_count": null,
   "id": "5d8feec5",
   "metadata": {},
   "outputs": [],
   "source": [
    "## check for datatypes, since I want to multiple prices later\n",
    "products_trousers.dtypes\n",
    "products_shirts.dtypes"
   ]
  },
  {
   "cell_type": "code",
   "execution_count": null,
   "id": "b69c0caf",
   "metadata": {},
   "outputs": [],
   "source": [
    "# Convert \"price\" column of products_trousers to float\n",
    "products_trousers.loc[:, \"price\"] = products_trousers.loc[:, \"price\"].astype(float)\n",
    "# Convert \"price\" column of products_shirts to float\n",
    "products_shirts.loc[:, \"price\"] = products_shirts.loc[:, \"price\"].astype(float)\n"
   ]
  },
  {
   "cell_type": "code",
   "execution_count": null,
   "id": "c253f44a",
   "metadata": {},
   "outputs": [],
   "source": [
    "# Convert the price column from \"products_trousers\" and \"products_shirts\" from object to float\n",
    "products_trousers[\"price\"] = products_trousers[\"price\"].astype(float)\n",
    "products_shirts[\"price\"] = products_shirts[\"price\"].astype(float)\n",
    "products_trousers.dtypes"
   ]
  },
  {
   "cell_type": "code",
   "execution_count": null,
   "id": "ab9c811a",
   "metadata": {},
   "outputs": [],
   "source": [
    "## persist df for later user before manipulating\n",
    "products_trousers_original = products_trousers\n",
    "products_shirts_original = products_shirts"
   ]
  },
  {
   "cell_type": "code",
   "execution_count": null,
   "id": "8426238d",
   "metadata": {},
   "outputs": [],
   "source": [
    "# Decrease the \"price\" column by 30 percent\n",
    "#products_trousers[\"price\"] = products_trousers[\"price\"] * 0.7\n",
    "products_trousers_discount = products_trousers\n",
    "products_trousers_discount[\"price\"] = products_trousers_discount[\"price\"] * 0.7\n",
    "# Print the updated DataFrame\n",
    "products_trousers_discount.tail()\n"
   ]
  },
  {
   "cell_type": "code",
   "execution_count": null,
   "id": "31a82bb6",
   "metadata": {},
   "outputs": [],
   "source": [
    "# increase the \"price\" column by 10 percent\n",
    "products_shirts_increase = products_shirts\n",
    "products_shirts_increase[\"price\"] = products_shirts_increase[\"price\"] * 1.1\n",
    "# Print the updated DataFrame\n",
    "products_shirts_increase.head()"
   ]
  },
  {
   "cell_type": "code",
   "execution_count": null,
   "id": "4e19f491",
   "metadata": {},
   "outputs": [],
   "source": []
  },
  {
   "cell_type": "code",
   "execution_count": null,
   "id": "31eb3822",
   "metadata": {},
   "outputs": [],
   "source": []
  },
  {
   "cell_type": "code",
   "execution_count": null,
   "id": "f9fc4587",
   "metadata": {},
   "outputs": [],
   "source": []
  },
  {
   "cell_type": "code",
   "execution_count": null,
   "id": "6dac430c",
   "metadata": {},
   "outputs": [],
   "source": []
  },
  {
   "cell_type": "code",
   "execution_count": null,
   "id": "c52ff4a6",
   "metadata": {},
   "outputs": [],
   "source": []
  },
  {
   "cell_type": "code",
   "execution_count": null,
   "id": "ff094f18",
   "metadata": {},
   "outputs": [],
   "source": []
  },
  {
   "cell_type": "code",
   "execution_count": null,
   "id": "49dcf96c",
   "metadata": {},
   "outputs": [],
   "source": []
  },
  {
   "cell_type": "code",
   "execution_count": null,
   "id": "28281c19",
   "metadata": {},
   "outputs": [],
   "source": []
  },
  {
   "cell_type": "code",
   "execution_count": null,
   "id": "8c097a5c",
   "metadata": {},
   "outputs": [],
   "source": []
  },
  {
   "cell_type": "code",
   "execution_count": null,
   "id": "b0f02078",
   "metadata": {},
   "outputs": [],
   "source": []
  },
  {
   "cell_type": "code",
   "execution_count": null,
   "id": "acf14730",
   "metadata": {},
   "outputs": [],
   "source": []
  }
 ],
 "metadata": {
  "kernelspec": {
   "display_name": "Python 3 (ipykernel)",
   "language": "python",
   "name": "python3"
  },
  "language_info": {
   "codemirror_mode": {
    "name": "ipython",
    "version": 3
   },
   "file_extension": ".py",
   "mimetype": "text/x-python",
   "name": "python",
   "nbconvert_exporter": "python",
   "pygments_lexer": "ipython3",
   "version": "3.9.13"
  }
 },
 "nbformat": 4,
 "nbformat_minor": 5
}
