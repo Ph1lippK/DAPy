{
 "cells": [
  {
   "cell_type": "code",
   "execution_count": 1,
   "id": "d58a6f92",
   "metadata": {},
   "outputs": [],
   "source": [
    "## import stuff\n",
    "import pandas as pd\n",
    "import numpy as np\n",
    "import os\n",
    "import seaborn as sns\n",
    "import matplotlib.pyplot as plt"
   ]
  },
  {
   "cell_type": "markdown",
   "id": "06f023aa",
   "metadata": {},
   "source": [
    "# This is ass. 3 - Exploratory data analysis and hypotheses testing\n",
    "\n",
    "focus is on cleaning data, visualisation, some statistics \n",
    "There are 3 steps to do:\n",
    "1. Data Preperation\n",
    "2. Data Visualization\n",
    "3. Hypothesis Testing\n",
    "\n",
    "\n",
    "General principle: \n",
    "\n",
    "Im Jupiter-Notebook sollen die einzelnen Analyseschritte detailliert beschrieben werden. - Gehen Sie insbesondere auf auch die Art und Weise ein, wie - die Daten aufbereiten wurden, - welche Methoden verwendet wurden und - wie die einzelnen Erkenntnisse bzw. Ergebnisse zustande kommen.\n",
    "\n",
    "Für die Bewertung der Aufgaben ist nicht nur das Ergebnis relevant, sondern auch die Beschreibung des von Ihnen verwendeten Wegs, sowie Präsentation der Ergebnisse (Lesbarkeit, Angabe der Aufgabenummer)."
   ]
  },
  {
   "cell_type": "markdown",
   "id": "fe9d2f7d",
   "metadata": {},
   "source": [
    "# 1. Data preparation\n",
    "\n",
    "## 1.1 Import the data and perform data cleaning if needed. Describe what you are doing\n",
    "## 1.2 Determine the measurement scale of each attribute in the data set. Briefly explain your decision."
   ]
  },
  {
   "cell_type": "markdown",
   "id": "f0bbe61d",
   "metadata": {},
   "source": [
    "### 1.1 import and clean data"
   ]
  },
  {
   "cell_type": "code",
   "execution_count": 2,
   "id": "03dd8186",
   "metadata": {},
   "outputs": [
    {
     "name": "stdout",
     "output_type": "stream",
     "text": [
      "<class 'pandas.core.frame.DataFrame'>\n",
      "RangeIndex: 9994 entries, 0 to 9993\n",
      "Data columns (total 9 columns):\n",
      " #   Column            Non-Null Count  Dtype  \n",
      "---  ------            --------------  -----  \n",
      " 0   Order Date        9994 non-null   object \n",
      " 1   Shipment Date     9994 non-null   object \n",
      " 2   Segment           9994 non-null   object \n",
      " 3   City              9994 non-null   object \n",
      " 4   State             9795 non-null   object \n",
      " 5   Region            9994 non-null   object \n",
      " 6   Product ID        9601 non-null   object \n",
      " 7   Product Category  9994 non-null   object \n",
      " 8   Profit            9799 non-null   float64\n",
      "dtypes: float64(1), object(8)\n",
      "memory usage: 702.8+ KB\n"
     ]
    }
   ],
   "source": [
    "## get data\n",
    "#path = \"https://raw.githubusercontent.com/Ph1lippK/DAPy/master/\"\n",
    "#retail = pd.read_csv(path + \"/03_Assignment Data.csv\")\n",
    "data = pd.read_csv(\"03_Assignment Data.csv\")\n",
    "data.head()\n",
    "data.info()"
   ]
  },
  {
   "cell_type": "code",
   "execution_count": 3,
   "id": "0c8fdb9f",
   "metadata": {},
   "outputs": [
    {
     "name": "stdout",
     "output_type": "stream",
     "text": [
      "Order Date            0\n",
      "Shipment Date         0\n",
      "Segment               0\n",
      "City                  0\n",
      "State               199\n",
      "Region                0\n",
      "Product ID          393\n",
      "Product Category      0\n",
      "Profit              195\n",
      "dtype: int64\n"
     ]
    }
   ],
   "source": [
    "print(data.isnull().sum())"
   ]
  },
  {
   "cell_type": "markdown",
   "id": "3d5b0f6e",
   "metadata": {},
   "source": [
    "So while checking for missing values I figured that I have to look into the profit, product ID and State columns a little deeper.\n",
    "State and profit will be important in the later tasks, thus I will look deeper into that. \n",
    "Firstly Im replacing values from product ID with a placeholder, since that column wont be essential for my later analysis. \n",
    "State might be replaceable, since we have city and region."
   ]
  },
  {
   "cell_type": "code",
   "execution_count": 4,
   "id": "3f39cae9",
   "metadata": {},
   "outputs": [],
   "source": [
    "data['Product ID'] = data['Product ID'].fillna('Unknown')\n",
    "#print(data.isnull().sum())"
   ]
  },
  {
   "cell_type": "code",
   "execution_count": 5,
   "id": "2c8b4f56",
   "metadata": {},
   "outputs": [],
   "source": [
    "## Missing values in the \"State\" column I will replace with the most frequent state for each combination of \"City\" and \"Region\"\n",
    "## To do that I will create a mapping of the mode (most frequent value) of the \"State\" for each group\n",
    "## and then use that to fill the missing values.\n",
    "\n",
    "# Create a mapping of the mode of 'State' for each group of 'City' and 'Region'\n",
    "state_mapping = data.groupby(['City', 'Region'])['State'].agg(pd.Series.mode).to_dict()\n",
    "\n",
    "# Define a function to apply to the missing values in 'State'\n",
    "def fill_state(row):\n",
    "    if pd.isnull(row['State']):\n",
    "        return state_mapping.get((row['City'], row['Region']))\n",
    "    else:\n",
    "        return row['State']\n",
    "\n",
    "# Apply the function to the 'State' column\n",
    "data['State'] = data.apply(fill_state, axis=1)\n",
    "##print(data.isnull().sum())"
   ]
  },
  {
   "cell_type": "markdown",
   "id": "53057129",
   "metadata": {},
   "source": [
    "Regarding the profit column with null values I will just drop the values, since I have 195 entries and that is 1.96 %, so a non essential amount of missing data. There is another issue bugging me though, I have 461 entries with a profit of 0.0. In a real life example I would check with my business partner, in order to get more business knowledge if that is a thing that they will sell stuff for zero profit. It might be a reasonable sales approach for big customers to sell the first stuff cheaper or with 0 profit, but I just do not know that. Hence I will drop the values, in real life I would talk to my business partner to get more business understanding"
   ]
  },
  {
   "cell_type": "code",
   "execution_count": 7,
   "id": "20932aea",
   "metadata": {},
   "outputs": [
    {
     "name": "stdout",
     "output_type": "stream",
     "text": [
      "<class 'pandas.core.frame.DataFrame'>\n",
      "Int64Index: 461 entries, 33 to 9993\n",
      "Data columns (total 9 columns):\n",
      " #   Column            Non-Null Count  Dtype  \n",
      "---  ------            --------------  -----  \n",
      " 0   Order Date        461 non-null    object \n",
      " 1   Shipment Date     461 non-null    object \n",
      " 2   Segment           461 non-null    object \n",
      " 3   City              461 non-null    object \n",
      " 4   State             461 non-null    object \n",
      " 5   Region            461 non-null    object \n",
      " 6   Product ID        461 non-null    object \n",
      " 7   Product Category  461 non-null    object \n",
      " 8   Profit            461 non-null    float64\n",
      "dtypes: float64(1), object(8)\n",
      "memory usage: 36.0+ KB\n"
     ]
    }
   ],
   "source": [
    "zero_profit_data = data[data['Profit'] == 0.0]\n",
    "zero_profit_data.info()"
   ]
  },
  {
   "cell_type": "code",
   "execution_count": 8,
   "id": "47eab05c",
   "metadata": {},
   "outputs": [],
   "source": [
    "# Remove rows with 'Profit' as NaN\n",
    "data = data[data['Profit'].notna()]\n",
    "# Remove rows with 'Profit' as 0.0\n",
    "data = data[data['Profit'] != 0.0]\n",
    "## testing my code to make sure I have no missing values or profit =0.0 anymore\n",
    "##print(data.isnull().sum())\n",
    "##zero_profit_data = data[data['Profit'] == 0.0]\n",
    "##zero_profit_data.info()\n"
   ]
  },
  {
   "cell_type": "code",
   "execution_count": 9,
   "id": "cd0fd4e0",
   "metadata": {},
   "outputs": [
    {
     "data": {
      "text/html": [
       "<div>\n",
       "<style scoped>\n",
       "    .dataframe tbody tr th:only-of-type {\n",
       "        vertical-align: middle;\n",
       "    }\n",
       "\n",
       "    .dataframe tbody tr th {\n",
       "        vertical-align: top;\n",
       "    }\n",
       "\n",
       "    .dataframe thead th {\n",
       "        text-align: right;\n",
       "    }\n",
       "</style>\n",
       "<table border=\"1\" class=\"dataframe\">\n",
       "  <thead>\n",
       "    <tr style=\"text-align: right;\">\n",
       "      <th></th>\n",
       "      <th>Order Date</th>\n",
       "      <th>Shipment Date</th>\n",
       "      <th>Segment</th>\n",
       "      <th>City</th>\n",
       "      <th>State</th>\n",
       "      <th>Region</th>\n",
       "      <th>Product ID</th>\n",
       "      <th>Product Category</th>\n",
       "      <th>Profit</th>\n",
       "    </tr>\n",
       "  </thead>\n",
       "  <tbody>\n",
       "    <tr>\n",
       "      <th>0</th>\n",
       "      <td>2020-11-08</td>\n",
       "      <td>2020-11-11</td>\n",
       "      <td>Consumer</td>\n",
       "      <td>Henderson</td>\n",
       "      <td>Kentucky</td>\n",
       "      <td>South</td>\n",
       "      <td>FUR-BO-10001798</td>\n",
       "      <td>Furniture</td>\n",
       "      <td>41.9136</td>\n",
       "    </tr>\n",
       "    <tr>\n",
       "      <th>1</th>\n",
       "      <td>2020-11-08</td>\n",
       "      <td>2020-11-11</td>\n",
       "      <td>Consumer</td>\n",
       "      <td>Henderson</td>\n",
       "      <td>Kentucky</td>\n",
       "      <td>South</td>\n",
       "      <td>FUR-CH-10000454</td>\n",
       "      <td>Furniture</td>\n",
       "      <td>219.5820</td>\n",
       "    </tr>\n",
       "    <tr>\n",
       "      <th>2</th>\n",
       "      <td>2020-06-12</td>\n",
       "      <td>2020-06-16</td>\n",
       "      <td>Others</td>\n",
       "      <td>Los Angeles</td>\n",
       "      <td>California</td>\n",
       "      <td>West</td>\n",
       "      <td>OFF-LA-10000240</td>\n",
       "      <td>Office Supplies</td>\n",
       "      <td>6.8714</td>\n",
       "    </tr>\n",
       "    <tr>\n",
       "      <th>3</th>\n",
       "      <td>2019-10-11</td>\n",
       "      <td>2019-10-18</td>\n",
       "      <td>Consumer</td>\n",
       "      <td>Fort Lauderdale</td>\n",
       "      <td>Florida</td>\n",
       "      <td>South</td>\n",
       "      <td>FUR-TA-10000577</td>\n",
       "      <td>Furniture</td>\n",
       "      <td>-383.0310</td>\n",
       "    </tr>\n",
       "    <tr>\n",
       "      <th>4</th>\n",
       "      <td>2019-10-11</td>\n",
       "      <td>2019-10-18</td>\n",
       "      <td>Consumer</td>\n",
       "      <td>Fort Lauderdale</td>\n",
       "      <td>Florida</td>\n",
       "      <td>South</td>\n",
       "      <td>OFF-ST-10000760</td>\n",
       "      <td>Office Supplies</td>\n",
       "      <td>2.5164</td>\n",
       "    </tr>\n",
       "  </tbody>\n",
       "</table>\n",
       "</div>"
      ],
      "text/plain": [
       "   Order Date Shipment Date   Segment             City       State Region  \\\n",
       "0  2020-11-08    2020-11-11  Consumer        Henderson    Kentucky  South   \n",
       "1  2020-11-08    2020-11-11  Consumer        Henderson    Kentucky  South   \n",
       "2  2020-06-12    2020-06-16    Others      Los Angeles  California   West   \n",
       "3  2019-10-11    2019-10-18  Consumer  Fort Lauderdale     Florida  South   \n",
       "4  2019-10-11    2019-10-18  Consumer  Fort Lauderdale     Florida  South   \n",
       "\n",
       "        Product ID Product Category    Profit  \n",
       "0  FUR-BO-10001798        Furniture   41.9136  \n",
       "1  FUR-CH-10000454        Furniture  219.5820  \n",
       "2  OFF-LA-10000240  Office Supplies    6.8714  \n",
       "3  FUR-TA-10000577        Furniture -383.0310  \n",
       "4  OFF-ST-10000760  Office Supplies    2.5164  "
      ]
     },
     "execution_count": 9,
     "metadata": {},
     "output_type": "execute_result"
    }
   ],
   "source": [
    "data.head()"
   ]
  },
  {
   "cell_type": "markdown",
   "id": "1c28e14f",
   "metadata": {},
   "source": [
    "Regarding later task I will have to visualize by month, by state each looking at the profit. Thus I will check my profit column for a distribution and outliners. \n",
    "Furthermore, since I have to visualize how the profit has changed on a monthly basis I will check if 'Order Date' is not in datetime format and convert if necessary. \n",
    "After that I have to create a column \"Month\" as preliminary work to visualize by month. "
   ]
  },
  {
   "cell_type": "code",
   "execution_count": 13,
   "id": "61569e3a",
   "metadata": {},
   "outputs": [
    {
     "data": {
      "image/png": "[encoded data removed]",
      "text/plain": [
       "<Figure size 500x500 with 1 Axes>"
      ]
     },
     "metadata": {},
     "output_type": "display_data"
    }
   ],
   "source": [
    "data_profit = data[['Profit']]\n",
    "# Plot Boxplot\n",
    "fig, ax = plt.subplots(figsize=(5, 5))\n",
    "sns.boxplot(data=data_profit) # Use a boxplot to visualize any outliers\n",
    "plt.show()"
   ]
  },
  {
   "cell_type": "code",
   "execution_count": 17,
   "id": "4021f0a4",
   "metadata": {},
   "outputs": [],
   "source": [
    "Q1 = data['Profit'].quantile(0.25)\n",
    "Q3 = data['Profit'].quantile(0.75)\n",
    "IQR = Q3 - Q1\n",
    "\n",
    "# Define bounds\n",
    "lower_bound = Q1 - 1.5 * IQR\n",
    "upper_bound = Q3 + 1.5 * IQR\n",
    "\n",
    "# Identify outliers\n",
    "#outliers = data[(data['Profit'] < lower_bound) | (data['Profit'] > upper_bound)]\n",
    "#print(outliers)\n",
    "# Remove outliers\n",
    "data = data[(data['Profit'] >= lower_bound) & (data['Profit'] <= upper_bound)]"
   ]
  },
  {
   "cell_type": "code",
   "execution_count": 21,
   "id": "523d52ec",
   "metadata": {},
   "outputs": [
    {
     "name": "stdout",
     "output_type": "stream",
     "text": [
      "<class 'pandas.core.frame.DataFrame'>\n",
      "Int64Index: 7584 entries, 0 to 9992\n",
      "Data columns (total 9 columns):\n",
      " #   Column            Non-Null Count  Dtype  \n",
      "---  ------            --------------  -----  \n",
      " 0   Order Date        7584 non-null   object \n",
      " 1   Shipment Date     7584 non-null   object \n",
      " 2   Segment           7584 non-null   object \n",
      " 3   City              7584 non-null   object \n",
      " 4   State             7584 non-null   object \n",
      " 5   Region            7584 non-null   object \n",
      " 6   Product ID        7584 non-null   object \n",
      " 7   Product Category  7584 non-null   object \n",
      " 8   Profit            7584 non-null   float64\n",
      "dtypes: float64(1), object(8)\n",
      "memory usage: 592.5+ KB\n"
     ]
    }
   ],
   "source": [
    "data.info()"
   ]
  },
  {
   "cell_type": "code",
   "execution_count": 22,
   "id": "1feaec6c",
   "metadata": {},
   "outputs": [
    {
     "name": "stdout",
     "output_type": "stream",
     "text": [
      "object\n"
     ]
    }
   ],
   "source": [
    "## now checking for column order date in datetime format and converting\n",
    "print(data['Order Date'].dtypes)\n",
    "##unfortunately if is type object (,,>﹏<,,)"
   ]
  },
  {
   "cell_type": "code",
   "execution_count": 28,
   "id": "032897f9",
   "metadata": {},
   "outputs": [
    {
     "name": "stdout",
     "output_type": "stream",
     "text": [
      "datetime64[ns]\n"
     ]
    }
   ],
   "source": [
    "data['Order Date'] = pd.to_datetime(data['Order Date'])\n",
    "print(data['Order Date'].dtypes)"
   ]
  },
  {
   "cell_type": "code",
   "execution_count": 29,
   "id": "c36dfdd0",
   "metadata": {},
   "outputs": [
    {
     "data": {
      "text/html": [
       "<div>\n",
       "<style scoped>\n",
       "    .dataframe tbody tr th:only-of-type {\n",
       "        vertical-align: middle;\n",
       "    }\n",
       "\n",
       "    .dataframe tbody tr th {\n",
       "        vertical-align: top;\n",
       "    }\n",
       "\n",
       "    .dataframe thead th {\n",
       "        text-align: right;\n",
       "    }\n",
       "</style>\n",
       "<table border=\"1\" class=\"dataframe\">\n",
       "  <thead>\n",
       "    <tr style=\"text-align: right;\">\n",
       "      <th></th>\n",
       "      <th>Order Date</th>\n",
       "      <th>Shipment Date</th>\n",
       "      <th>Segment</th>\n",
       "      <th>City</th>\n",
       "      <th>State</th>\n",
       "      <th>Region</th>\n",
       "      <th>Product ID</th>\n",
       "      <th>Product Category</th>\n",
       "      <th>Profit</th>\n",
       "      <th>Order Month</th>\n",
       "    </tr>\n",
       "  </thead>\n",
       "  <tbody>\n",
       "    <tr>\n",
       "      <th>0</th>\n",
       "      <td>2020-11-08</td>\n",
       "      <td>2020-11-11</td>\n",
       "      <td>Consumer</td>\n",
       "      <td>Henderson</td>\n",
       "      <td>Kentucky</td>\n",
       "      <td>South</td>\n",
       "      <td>FUR-BO-10001798</td>\n",
       "      <td>Furniture</td>\n",
       "      <td>41.9136</td>\n",
       "      <td>11</td>\n",
       "    </tr>\n",
       "    <tr>\n",
       "      <th>2</th>\n",
       "      <td>2020-06-12</td>\n",
       "      <td>2020-06-16</td>\n",
       "      <td>Others</td>\n",
       "      <td>Los Angeles</td>\n",
       "      <td>California</td>\n",
       "      <td>West</td>\n",
       "      <td>OFF-LA-10000240</td>\n",
       "      <td>Office Supplies</td>\n",
       "      <td>6.8714</td>\n",
       "      <td>6</td>\n",
       "    </tr>\n",
       "    <tr>\n",
       "      <th>4</th>\n",
       "      <td>2019-10-11</td>\n",
       "      <td>2019-10-18</td>\n",
       "      <td>Consumer</td>\n",
       "      <td>Fort Lauderdale</td>\n",
       "      <td>Florida</td>\n",
       "      <td>South</td>\n",
       "      <td>OFF-ST-10000760</td>\n",
       "      <td>Office Supplies</td>\n",
       "      <td>2.5164</td>\n",
       "      <td>10</td>\n",
       "    </tr>\n",
       "    <tr>\n",
       "      <th>5</th>\n",
       "      <td>2018-06-09</td>\n",
       "      <td>2018-06-14</td>\n",
       "      <td>Consumer</td>\n",
       "      <td>Los Angeles</td>\n",
       "      <td>California</td>\n",
       "      <td>West</td>\n",
       "      <td>FUR-FU-10001487</td>\n",
       "      <td>Furniture</td>\n",
       "      <td>14.1694</td>\n",
       "      <td>6</td>\n",
       "    </tr>\n",
       "    <tr>\n",
       "      <th>6</th>\n",
       "      <td>2018-06-09</td>\n",
       "      <td>2018-06-14</td>\n",
       "      <td>Consumer</td>\n",
       "      <td>Los Angeles</td>\n",
       "      <td>California</td>\n",
       "      <td>West</td>\n",
       "      <td>OFF-AR-10002833</td>\n",
       "      <td>Office Supplies</td>\n",
       "      <td>1.9656</td>\n",
       "      <td>6</td>\n",
       "    </tr>\n",
       "  </tbody>\n",
       "</table>\n",
       "</div>"
      ],
      "text/plain": [
       "  Order Date Shipment Date   Segment             City       State Region  \\\n",
       "0 2020-11-08    2020-11-11  Consumer        Henderson    Kentucky  South   \n",
       "2 2020-06-12    2020-06-16    Others      Los Angeles  California   West   \n",
       "4 2019-10-11    2019-10-18  Consumer  Fort Lauderdale     Florida  South   \n",
       "5 2018-06-09    2018-06-14  Consumer      Los Angeles  California   West   \n",
       "6 2018-06-09    2018-06-14  Consumer      Los Angeles  California   West   \n",
       "\n",
       "        Product ID Product Category   Profit  Order Month  \n",
       "0  FUR-BO-10001798        Furniture  41.9136           11  \n",
       "2  OFF-LA-10000240  Office Supplies   6.8714            6  \n",
       "4  OFF-ST-10000760  Office Supplies   2.5164           10  \n",
       "5  FUR-FU-10001487        Furniture  14.1694            6  \n",
       "6  OFF-AR-10002833  Office Supplies   1.9656            6  "
      ]
     },
     "execution_count": 29,
     "metadata": {},
     "output_type": "execute_result"
    }
   ],
   "source": [
    "## extracting month and creating new column\n",
    "data['Order Month'] = data['Order Date'].dt.month\n",
    "data.head()"
   ]
  },
  {
   "cell_type": "markdown",
   "id": "3a53ebd8",
   "metadata": {},
   "source": [
    "### 1.2 Determine the measurement scale of each attribute in the data set. Briefly explain your decision."
   ]
  },
  {
   "cell_type": "code",
   "execution_count": 30,
   "id": "4f74d440",
   "metadata": {},
   "outputs": [
    {
     "name": "stdout",
     "output_type": "stream",
     "text": [
      "Order Date          datetime64[ns]\n",
      "Shipment Date               object\n",
      "Segment                     object\n",
      "City                        object\n",
      "State                       object\n",
      "Region                      object\n",
      "Product ID                  object\n",
      "Product Category            object\n",
      "Profit                     float64\n",
      "Order Month                  int64\n",
      "dtype: object\n"
     ]
    }
   ],
   "source": [
    "print(data.dtypes)"
   ]
  },
  {
   "cell_type": "markdown",
   "id": "dd887e64",
   "metadata": {},
   "source": [
    "### General principle\n",
    "\n",
    "1. datetime64[ns]: This represents date and/or time values. These are usually interval scale data.\n",
    "2. object: This is usually a string or a mix of other data types. In many cases, these columns may hold nominal scale data (like names, ids), but they can also hold ordinal data if the data are coded as text (like 'low', 'medium', 'high').\n",
    "3. int64 or float64: These are numeric types. They can hold ordinal data (like rankings), interval data (like temperatures in Celsius or Fahrenheit, dates), or ratio data (like height, weight, age). The actual scale will depend on the nature of the data.\n",
    "\n",
    "### for my dataset\n",
    "\n",
    "1. Order Date: Interval scale - Dates are measured on an interval scale, as there are equal intervals between consecutive dates and you can perform arithmetic operations on them.\n",
    "1. Shipment Date: Interval scale - The same reasoning as \"Order Date\" applies here.\n",
    "1. Segment: Nominal scale - The \"Segment\" attribute is a categorical variable. The values like \"Consumer\" or \"Others\" are categories that have no inherent order, so this is a nominal scale.\n",
    "1. City: Nominal scale - City names are categorical and can't be ordered in a meaningful way, so this is a nominal scale.\n",
    "1. State: Nominal scale - State names are categorical and don't have a meaningful order, so this is a nominal scale.\n",
    "1. Region: Nominal scale - Regions, similar to states and cities, fall into the category of nominal data, as there's no inherent order or ranking in the name of regions.\n",
    "1. Product ID: Nominal scale - Though \"Product ID\" looks numeric, it's really a categorical variable used to uniquely identify products. There's no meaningful order or difference, so this is a nominal scale.\n",
    "1. Product Category: Nominal scale - The categories like \"Furniture\", \"Office Supplies\" or \"Technology\" are categorical and have no inherent order, so this is a nominal scale.\n",
    "1. Profit: Ratio scale - Profit can be measured on a ratio scale. It has a true zero point (no profit) and you can make relative comparisons (e.g., \"Profit A is twice as large as Profit B\").\n",
    "1. Order Month: Interval scale - The months of the year, from 1 (January) to 12 (December), have a specific order and equal intervals between them.\n"
   ]
  },
  {
   "cell_type": "markdown",
   "id": "78d82fe0",
   "metadata": {},
   "source": [
    "# 2. Data Visualization\n",
    "1. Visualize how the profit has changed on a monthly basis using one appropriate chart. Describe and interpret the results.\n",
    "2. The company wants to know, which states have been profitable and in which states occurred a loss. Visualize the profit or loss amongst different states using one appropriate chart. Describe and interpret the results.\n",
    "3. Visualize the state-wise profit or loss according to the product categories using one appropriate chart. Describe and interpret the results.\n",
    "4. Visualize the distribution of the profit according to the product categories using one appropriate chart. Describe and interpret the result"
   ]
  },
  {
   "cell_type": "markdown",
   "id": "98cd56b6",
   "metadata": {},
   "source": [
    "### 2.1 Visualize how the profit has changed on a monthly basis using one appropriate chart. Describe and interpret the results."
   ]
  },
  {
   "cell_type": "code",
   "execution_count": 31,
   "id": "3fa53a15",
   "metadata": {},
   "outputs": [
    {
     "data": {
      "text/html": [
       "<div>\n",
       "<style scoped>\n",
       "    .dataframe tbody tr th:only-of-type {\n",
       "        vertical-align: middle;\n",
       "    }\n",
       "\n",
       "    .dataframe tbody tr th {\n",
       "        vertical-align: top;\n",
       "    }\n",
       "\n",
       "    .dataframe thead th {\n",
       "        text-align: right;\n",
       "    }\n",
       "</style>\n",
       "<table border=\"1\" class=\"dataframe\">\n",
       "  <thead>\n",
       "    <tr style=\"text-align: right;\">\n",
       "      <th></th>\n",
       "      <th>Order Date</th>\n",
       "      <th>Shipment Date</th>\n",
       "      <th>Segment</th>\n",
       "      <th>City</th>\n",
       "      <th>State</th>\n",
       "      <th>Region</th>\n",
       "      <th>Product ID</th>\n",
       "      <th>Product Category</th>\n",
       "      <th>Profit</th>\n",
       "      <th>Order Month</th>\n",
       "    </tr>\n",
       "  </thead>\n",
       "  <tbody>\n",
       "    <tr>\n",
       "      <th>0</th>\n",
       "      <td>2020-11-08</td>\n",
       "      <td>2020-11-11</td>\n",
       "      <td>Consumer</td>\n",
       "      <td>Henderson</td>\n",
       "      <td>Kentucky</td>\n",
       "      <td>South</td>\n",
       "      <td>FUR-BO-10001798</td>\n",
       "      <td>Furniture</td>\n",
       "      <td>41.9136</td>\n",
       "      <td>11</td>\n",
       "    </tr>\n",
       "    <tr>\n",
       "      <th>2</th>\n",
       "      <td>2020-06-12</td>\n",
       "      <td>2020-06-16</td>\n",
       "      <td>Others</td>\n",
       "      <td>Los Angeles</td>\n",
       "      <td>California</td>\n",
       "      <td>West</td>\n",
       "      <td>OFF-LA-10000240</td>\n",
       "      <td>Office Supplies</td>\n",
       "      <td>6.8714</td>\n",
       "      <td>6</td>\n",
       "    </tr>\n",
       "    <tr>\n",
       "      <th>4</th>\n",
       "      <td>2019-10-11</td>\n",
       "      <td>2019-10-18</td>\n",
       "      <td>Consumer</td>\n",
       "      <td>Fort Lauderdale</td>\n",
       "      <td>Florida</td>\n",
       "      <td>South</td>\n",
       "      <td>OFF-ST-10000760</td>\n",
       "      <td>Office Supplies</td>\n",
       "      <td>2.5164</td>\n",
       "      <td>10</td>\n",
       "    </tr>\n",
       "    <tr>\n",
       "      <th>5</th>\n",
       "      <td>2018-06-09</td>\n",
       "      <td>2018-06-14</td>\n",
       "      <td>Consumer</td>\n",
       "      <td>Los Angeles</td>\n",
       "      <td>California</td>\n",
       "      <td>West</td>\n",
       "      <td>FUR-FU-10001487</td>\n",
       "      <td>Furniture</td>\n",
       "      <td>14.1694</td>\n",
       "      <td>6</td>\n",
       "    </tr>\n",
       "    <tr>\n",
       "      <th>6</th>\n",
       "      <td>2018-06-09</td>\n",
       "      <td>2018-06-14</td>\n",
       "      <td>Consumer</td>\n",
       "      <td>Los Angeles</td>\n",
       "      <td>California</td>\n",
       "      <td>West</td>\n",
       "      <td>OFF-AR-10002833</td>\n",
       "      <td>Office Supplies</td>\n",
       "      <td>1.9656</td>\n",
       "      <td>6</td>\n",
       "    </tr>\n",
       "  </tbody>\n",
       "</table>\n",
       "</div>"
      ],
      "text/plain": [
       "  Order Date Shipment Date   Segment             City       State Region  \\\n",
       "0 2020-11-08    2020-11-11  Consumer        Henderson    Kentucky  South   \n",
       "2 2020-06-12    2020-06-16    Others      Los Angeles  California   West   \n",
       "4 2019-10-11    2019-10-18  Consumer  Fort Lauderdale     Florida  South   \n",
       "5 2018-06-09    2018-06-14  Consumer      Los Angeles  California   West   \n",
       "6 2018-06-09    2018-06-14  Consumer      Los Angeles  California   West   \n",
       "\n",
       "        Product ID Product Category   Profit  Order Month  \n",
       "0  FUR-BO-10001798        Furniture  41.9136           11  \n",
       "2  OFF-LA-10000240  Office Supplies   6.8714            6  \n",
       "4  OFF-ST-10000760  Office Supplies   2.5164           10  \n",
       "5  FUR-FU-10001487        Furniture  14.1694            6  \n",
       "6  OFF-AR-10002833  Office Supplies   1.9656            6  "
      ]
     },
     "execution_count": 31,
     "metadata": {},
     "output_type": "execute_result"
    }
   ],
   "source": [
    "data.head()"
   ]
  },
  {
   "cell_type": "code",
   "execution_count": 32,
   "id": "7df062d5",
   "metadata": {},
   "outputs": [
    {
     "data": {
      "image/png": "[encoded data removed]",
      "text/plain": [
       "<Figure size 1000x600 with 1 Axes>"
      ]
     },
     "metadata": {},
     "output_type": "display_data"
    }
   ],
   "source": [
    "## in order to visualize how the profit has changed on a monthly basis\n",
    "## we  need to aggregate the data by the month and then sum up the profits for each month.\n",
    "\n",
    "# Ensure the data is sorted by 'Order Date' before groupby operation\n",
    "data.sort_values('Order Date', inplace=True)\n",
    "\n",
    "# Group data by 'Order Month' and calculate sum of 'Profit' for each month\n",
    "monthly_profit = data.groupby('Order Month')['Profit'].sum()\n",
    "\n",
    "# Plotting\n",
    "plt.figure(figsize=(10,6))\n",
    "plt.plot(monthly_profit.index, monthly_profit.values, marker='o')\n",
    "plt.xlabel('Month')\n",
    "plt.ylabel('Profit')\n",
    "plt.title('Monthly Profit')\n",
    "plt.grid(True)\n",
    "plt.show()\n",
    "\n"
   ]
  },
  {
   "cell_type": "code",
   "execution_count": null,
   "id": "9541a700",
   "metadata": {},
   "outputs": [],
   "source": []
  },
  {
   "cell_type": "code",
   "execution_count": null,
   "id": "37c0e651",
   "metadata": {},
   "outputs": [],
   "source": []
  },
  {
   "cell_type": "code",
   "execution_count": null,
   "id": "e7eaad3e",
   "metadata": {},
   "outputs": [],
   "source": []
  },
  {
   "cell_type": "code",
   "execution_count": null,
   "id": "da29bad2",
   "metadata": {},
   "outputs": [],
   "source": []
  },
  {
   "cell_type": "code",
   "execution_count": null,
   "id": "fa9a7aab",
   "metadata": {},
   "outputs": [],
   "source": []
  },
  {
   "cell_type": "code",
   "execution_count": null,
   "id": "b7f514bd",
   "metadata": {},
   "outputs": [],
   "source": []
  },
  {
   "cell_type": "code",
   "execution_count": null,
   "id": "ca125142",
   "metadata": {},
   "outputs": [],
   "source": []
  },
  {
   "cell_type": "markdown",
   "id": "7c0ab933",
   "metadata": {},
   "source": [
    "### 2.2 The company wants to know, which states have been profitable and in which states occurred a loss. Visualize the profit or loss amongst different states using one appropriate chart. Describe and interpret the results. "
   ]
  },
  {
   "cell_type": "code",
   "execution_count": null,
   "id": "97d4345b",
   "metadata": {},
   "outputs": [],
   "source": []
  },
  {
   "cell_type": "markdown",
   "id": "37f42655",
   "metadata": {},
   "source": [
    "### 2.3 Visualize the state-wise profit or loss according to the product categories using one appropriate chart. Describe and interpret the results. "
   ]
  },
  {
   "cell_type": "code",
   "execution_count": null,
   "id": "194306df",
   "metadata": {},
   "outputs": [],
   "source": []
  },
  {
   "cell_type": "markdown",
   "id": "87a55c6c",
   "metadata": {},
   "source": [
    "### 2.4 Visualize the distribution of the profit according to the product categories using one appropriate chart. Describe and interpret the result"
   ]
  },
  {
   "cell_type": "code",
   "execution_count": null,
   "id": "06c09707",
   "metadata": {},
   "outputs": [],
   "source": []
  },
  {
   "cell_type": "code",
   "execution_count": null,
   "id": "4dc4f01c",
   "metadata": {},
   "outputs": [],
   "source": []
  },
  {
   "cell_type": "code",
   "execution_count": null,
   "id": "cc964658",
   "metadata": {},
   "outputs": [],
   "source": []
  },
  {
   "cell_type": "code",
   "execution_count": null,
   "id": "3f304984",
   "metadata": {},
   "outputs": [],
   "source": []
  }
 ],
 "metadata": {
  "kernelspec": {
   "display_name": "Python 3 (ipykernel)",
   "language": "python",
   "name": "python3"
  },
  "language_info": {
   "codemirror_mode": {
    "name": "ipython",
    "version": 3
   },
   "file_extension": ".py",
   "mimetype": "text/x-python",
   "name": "python",
   "nbconvert_exporter": "python",
   "pygments_lexer": "ipython3",
   "version": "3.9.13"
  }
 },
 "nbformat": 4,
 "nbformat_minor": 5
}
